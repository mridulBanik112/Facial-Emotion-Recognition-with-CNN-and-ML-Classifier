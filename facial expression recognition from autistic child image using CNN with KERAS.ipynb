{
 "cells": [
  {
   "cell_type": "code",
   "execution_count": 1,
   "metadata": {},
   "outputs": [
    {
     "name": "stderr",
     "output_type": "stream",
     "text": [
      "C:\\Users\\DELL\\Anaconda3\\lib\\site-packages\\h5py\\__init__.py:36: FutureWarning: Conversion of the second argument of issubdtype from `float` to `np.floating` is deprecated. In future, it will be treated as `np.float64 == np.dtype(float).type`.\n",
      "  from ._conv import register_converters as _register_converters\n",
      "Using TensorFlow backend.\n"
     ]
    }
   ],
   "source": [
    "# importing essentials\n",
    "import numpy as np\n",
    "import pandas as pd\n",
    "\n",
    "# to make sure we use tensorflow as our backend, so the image format will be depth/channel last\n",
    "from keras import backend as K\n",
    "K.set_image_dim_ordering('tf')\n",
    "import matplotlib.pyplot as plt\n",
    "%matplotlib inline\n",
    "import cv2\n",
    "import os\n",
    "import numpy as np\n",
    "from random import shuffle\n",
    "from tqdm import tqdm"
   ]
  },
  {
   "cell_type": "code",
   "execution_count": 2,
   "metadata": {},
   "outputs": [],
   "source": [
    "# TRAIN_DIR = 'E:/full stack python/Traine_DATA/Traine_DATA'\n",
    "TRAIN_DIR = 'C:/Users/DELL/SkyDrive/Documents/data2/train_data'\n",
    "# TEST_DIR = 'J:/SONGS/LAP DOWNLOAD/GEETA/Compressed/Data of saudia/tes'\n",
    "# TEST_DIR = 'E:/full stack python/Test_DATA/Test_DATA'\n",
    "TEST_DIR = 'C:/Users/DELL/SkyDrive/Documents/data2/test_data'\n",
    "IMG_SIZE = 28"
   ]
  },
  {
   "cell_type": "code",
   "execution_count": 3,
   "metadata": {},
   "outputs": [],
   "source": [
    "def label_img(img):\n",
    "    word_label = img.split('.')#[-3]\n",
    "    s=word_label[0]\n",
    " # DIY One hot encoder\n",
    "    if 'happy' in s : \n",
    "        return [1, 0, 0, 0]\n",
    "    elif 'sad' in  s: \n",
    "        return [0, 1, 0, 0]\n",
    "    elif 'angry' in  s: \n",
    "        return [0, 0, 1, 0] \n",
    "    elif 'normal' in  s: \n",
    "        return [0, 0, 0, 1] "
   ]
  },
  {
   "cell_type": "code",
   "execution_count": 4,
   "metadata": {},
   "outputs": [
    {
     "name": "stderr",
     "output_type": "stream",
     "text": [
      "100%|████████████████████████████████████████| 413/413 [00:16<00:00, 25.41it/s]\n"
     ]
    }
   ],
   "source": [
    "training_data = []\n",
    " \n",
    "    # tqdm is only used for interactive loading\n",
    "    # loading the training data\n",
    "for img in tqdm(os.listdir(TRAIN_DIR)):\n",
    "\n",
    "    # labeling the images\n",
    "    label = label_img(img)\n",
    "\n",
    "    path = os.path.join(TRAIN_DIR, img)\n",
    "\n",
    "    # loading the image from the path and then converting them into\n",
    "    # greyscale for easier covnet prob\n",
    "    img = cv2.imread(path, cv2.IMREAD_GRAYSCALE)\n",
    "\n",
    "    # resizing the image for processing them in the covnet\n",
    "    img = cv2.resize(img, (IMG_SIZE, IMG_SIZE))\n",
    "\n",
    "    # final step-forming the training data list with numpy array of the images\n",
    "    training_data.append([np.array(img), np.array(label)])\n",
    "\n",
    "# shuffling of the training data to preserve the random state of our data\n",
    "shuffle(training_data)"
   ]
  },
  {
   "cell_type": "code",
   "execution_count": 5,
   "metadata": {},
   "outputs": [],
   "source": [
    "split_value=int(len(training_data) * .3) # 30 /70 split \n",
    "train = training_data[:-split_value]\n",
    "test = training_data[-split_value:]\n"
   ]
  },
  {
   "cell_type": "code",
   "execution_count": 6,
   "metadata": {},
   "outputs": [],
   "source": [
    "train_features = np.array([i[0] for i in train]).reshape(-1, IMG_SIZE, IMG_SIZE, 1)\n",
    "train_labels = np.array([i[1] for i in train])\n",
    "val_features = np.array([i[0] for i in test]).reshape(-1, IMG_SIZE, IMG_SIZE, 1)\n",
    "val_labels = np.array([i[1] for i in test])"
   ]
  },
  {
   "cell_type": "code",
   "execution_count": 7,
   "metadata": {},
   "outputs": [
    {
     "name": "stdout",
     "output_type": "stream",
     "text": [
      "x:  (290, 28, 28, 1)\n",
      "Y:  (290, 4)\n",
      "test_x shape:  (123, 28, 28, 1)\n",
      "test_y shape:  (123, 4)\n"
     ]
    }
   ],
   "source": [
    "print('x: ', train_features.shape)\n",
    "print('Y: ', train_labels.shape)\n",
    "print('test_x shape: ', val_features.shape)\n",
    "print('test_y shape: ', val_labels.shape)"
   ]
  },
  {
   "cell_type": "code",
   "execution_count": 8,
   "metadata": {},
   "outputs": [],
   "source": [
    "from keras.layers import Conv2D, MaxPooling2D, Dense, Flatten, Input, Dropout\n",
    "from keras.models import Model, load_model\n",
    "from keras.models import Sequential\n",
    "from keras.layers import Dense, Conv2D, MaxPooling2D, Dropout, Flatten\n",
    "def get_model(input_shape):\n",
    "    \n",
    "    drop = 0.3\n",
    "    \n",
    "    X_input = Input(input_shape)\n",
    "    \n",
    "    X = Conv2D(64, (5,5), strides=(1,1), activation='relu', \n",
    "               kernel_initializer='glorot_normal')(X_input)\n",
    "    X = MaxPooling2D((2,2))(X)\n",
    "    \n",
    "    X = Conv2D(128, (5,5), strides=(1,1), activation='relu',\n",
    "              kernel_initializer='glorot_normal')(X)\n",
    "    \n",
    "    X = MaxPooling2D((2,2))(X)\n",
    "    \n",
    "    X = Flatten()(X)\n",
    "    \n",
    "    X = Dense(256, activation='relu')(X)\n",
    "    X = Dropout(drop)(X)\n",
    "    \n",
    "    X = Dense(32, activation='relu')(X)\n",
    "    X = Dropout(drop)(X)\n",
    "    \n",
    "    X = Dense(4, activation='softmax')(X)\n",
    "    \n",
    "    model = Model(inputs=[X_input], outputs=[X])\n",
    "    \n",
    "    \n",
    "    # another model\n",
    "#     model.add(Conv2D(32, (3, 3), padding='same', activation='relu', input_shape=input_shape))\n",
    "#     model.add(Conv2D(32, (3, 3), activation='relu'))\n",
    "#     model.add(MaxPooling2D(pool_size=(2, 2)))\n",
    "#     model.add(Dropout(0.25))\n",
    " \n",
    "#     model.add(Conv2D(64, (3, 3), padding='same', activation='relu'))\n",
    "#     model.add(Conv2D(64, (3, 3), activation='relu'))\n",
    "#     model.add(MaxPooling2D(pool_size=(2, 2)))\n",
    "#     model.add(Dropout(0.25))\n",
    " \n",
    "#     model.add(Conv2D(64, (3, 3), padding='same', activation='relu'))\n",
    "#     model.add(Conv2D(64, (3, 3), activation='relu'))\n",
    "#     model.add(MaxPooling2D(pool_size=(2, 2)))\n",
    "#     model.add(Dropout(0.25))\n",
    " \n",
    "#     model.add(Flatten())\n",
    "#     model.add(Dense(512, activation='relu'))\n",
    "#     model.add(Dropout(0.5))\n",
    "#     model.add(Dense(4, activation='softmax'))\n",
    "    \n",
    "    \n",
    "    return model"
   ]
  },
  {
   "cell_type": "code",
   "execution_count": 9,
   "metadata": {},
   "outputs": [],
   "source": [
    "from keras.optimizers import Nadam\n",
    "opt = Nadam(lr=0.001)"
   ]
  },
  {
   "cell_type": "code",
   "execution_count": 10,
   "metadata": {},
   "outputs": [],
   "source": [
    "model = get_model((28, 28, 1))\n",
    "# compile the model\n",
    "# model = get_model((train_features))\n",
    "model.compile(optimizer=opt,\n",
    "              loss='categorical_crossentropy',\n",
    "              metrics=['accuracy'])"
   ]
  },
  {
   "cell_type": "code",
   "execution_count": 11,
   "metadata": {},
   "outputs": [],
   "source": [
    "from keras.callbacks import ModelCheckpoint\n",
    "# only save the best model\n",
    "f_path = 'modelf.h5'\n",
    "msave = ModelCheckpoint(f_path, save_best_only=True)"
   ]
  },
  {
   "cell_type": "code",
   "execution_count": 12,
   "metadata": {},
   "outputs": [
    {
     "name": "stdout",
     "output_type": "stream",
     "text": [
      "Train on 290 samples, validate on 123 samples\n",
      "Epoch 1/80\n",
      "290/290 [==============================] - ETA: 2s - loss: 8.0365 - acc: 0.265 - ETA: 1s - loss: 8.7523 - acc: 0.312 - ETA: 0s - loss: 8.4438 - acc: 0.333 - ETA: 0s - loss: 8.1832 - acc: 0.324 - 3s 10ms/step - loss: 8.1210 - acc: 0.3103 - val_loss: 5.5906 - val_acc: 0.3740\n",
      "Epoch 2/80\n",
      "290/290 [==============================] - ETA: 1s - loss: 8.7763 - acc: 0.281 - ETA: 0s - loss: 9.6020 - acc: 0.273 - ETA: 0s - loss: 8.6330 - acc: 0.307 - ETA: 0s - loss: 7.9456 - acc: 0.312 - 2s 7ms/step - loss: 7.4513 - acc: 0.3207 - val_loss: 4.4858 - val_acc: 0.2439\n",
      "Epoch 3/80\n",
      "290/290 [==============================] - ETA: 1s - loss: 4.9492 - acc: 0.296 - ETA: 0s - loss: 3.7833 - acc: 0.296 - ETA: 0s - loss: 3.4763 - acc: 0.307 - ETA: 0s - loss: 3.1133 - acc: 0.281 - 2s 7ms/step - loss: 2.9405 - acc: 0.2724 - val_loss: 1.3698 - val_acc: 0.3659\n",
      "Epoch 4/80\n",
      "290/290 [==============================] - ETA: 1s - loss: 1.5582 - acc: 0.296 - ETA: 0s - loss: 1.4481 - acc: 0.335 - ETA: 0s - loss: 1.4249 - acc: 0.343 - ETA: 0s - loss: 1.4140 - acc: 0.343 - 2s 6ms/step - loss: 1.3799 - acc: 0.3655 - val_loss: 1.3920 - val_acc: 0.2927\n",
      "Epoch 5/80\n",
      "290/290 [==============================] - ETA: 1s - loss: 1.5391 - acc: 0.390 - ETA: 0s - loss: 1.4098 - acc: 0.382 - ETA: 0s - loss: 1.4060 - acc: 0.359 - ETA: 0s - loss: 1.3775 - acc: 0.382 - 2s 8ms/step - loss: 1.3492 - acc: 0.3897 - val_loss: 1.2414 - val_acc: 0.4553\n",
      "Epoch 6/80\n",
      "290/290 [==============================] - ETA: 1s - loss: 1.2913 - acc: 0.390 - ETA: 0s - loss: 1.4267 - acc: 0.382 - ETA: 0s - loss: 1.4327 - acc: 0.354 - ETA: 0s - loss: 1.4199 - acc: 0.339 - 2s 6ms/step - loss: 1.3871 - acc: 0.3759 - val_loss: 3.8428 - val_acc: 0.3333\n",
      "Epoch 7/80\n",
      "290/290 [==============================] - ETA: 1s - loss: 3.2135 - acc: 0.406 - ETA: 0s - loss: 2.2819 - acc: 0.390 - ETA: 0s - loss: 1.9483 - acc: 0.385 - ETA: 0s - loss: 1.7737 - acc: 0.410 - 2s 6ms/step - loss: 1.7013 - acc: 0.4310 - val_loss: 1.2801 - val_acc: 0.3902\n",
      "Epoch 8/80\n",
      "290/290 [==============================] - ETA: 1s - loss: 1.2847 - acc: 0.421 - ETA: 0s - loss: 1.2980 - acc: 0.398 - ETA: 0s - loss: 1.2908 - acc: 0.406 - ETA: 0s - loss: 1.2787 - acc: 0.394 - 2s 7ms/step - loss: 1.2673 - acc: 0.4000 - val_loss: 1.5561 - val_acc: 0.2602\n",
      "Epoch 9/80\n",
      "290/290 [==============================] - ETA: 1s - loss: 1.8181 - acc: 0.296 - ETA: 0s - loss: 2.6006 - acc: 0.250 - ETA: 0s - loss: 2.4128 - acc: 0.286 - ETA: 0s - loss: 2.1721 - acc: 0.320 - 2s 6ms/step - loss: 2.0659 - acc: 0.3241 - val_loss: 1.2596 - val_acc: 0.3171\n",
      "Epoch 10/80\n",
      "290/290 [==============================] - ETA: 1s - loss: 1.3898 - acc: 0.359 - ETA: 0s - loss: 1.3672 - acc: 0.343 - ETA: 0s - loss: 1.3455 - acc: 0.343 - ETA: 0s - loss: 1.3293 - acc: 0.363 - 2s 7ms/step - loss: 1.3204 - acc: 0.3655 - val_loss: 1.2295 - val_acc: 0.3740\n",
      "Epoch 11/80\n",
      "290/290 [==============================] - ETA: 1s - loss: 1.1933 - acc: 0.375 - ETA: 0s - loss: 1.3078 - acc: 0.382 - ETA: 0s - loss: 1.2955 - acc: 0.385 - ETA: 0s - loss: 1.2836 - acc: 0.394 - 2s 7ms/step - loss: 1.2668 - acc: 0.4138 - val_loss: 1.1957 - val_acc: 0.4065\n",
      "Epoch 12/80\n",
      "290/290 [==============================] - ETA: 1s - loss: 1.1817 - acc: 0.453 - ETA: 0s - loss: 1.1594 - acc: 0.484 - ETA: 0s - loss: 1.1494 - acc: 0.463 - ETA: 0s - loss: 1.1227 - acc: 0.476 - 2s 6ms/step - loss: 1.1692 - acc: 0.4793 - val_loss: 1.2532 - val_acc: 0.4553\n",
      "Epoch 13/80\n",
      "290/290 [==============================] - ETA: 1s - loss: 1.1524 - acc: 0.484 - ETA: 0s - loss: 1.1571 - acc: 0.515 - ETA: 0s - loss: 1.1843 - acc: 0.474 - ETA: 0s - loss: 1.1992 - acc: 0.468 - 2s 6ms/step - loss: 1.2145 - acc: 0.4655 - val_loss: 1.2022 - val_acc: 0.3577\n",
      "Epoch 14/80\n",
      "290/290 [==============================] - ETA: 1s - loss: 1.1562 - acc: 0.453 - ETA: 0s - loss: 1.1372 - acc: 0.445 - ETA: 0s - loss: 1.1416 - acc: 0.447 - ETA: 0s - loss: 1.1462 - acc: 0.453 - 2s 7ms/step - loss: 1.1549 - acc: 0.4655 - val_loss: 1.1854 - val_acc: 0.4797\n",
      "Epoch 15/80\n",
      "290/290 [==============================] - ETA: 1s - loss: 1.1388 - acc: 0.484 - ETA: 0s - loss: 1.1282 - acc: 0.484 - ETA: 0s - loss: 1.1377 - acc: 0.468 - ETA: 0s - loss: 1.1126 - acc: 0.507 - 2s 7ms/step - loss: 1.0990 - acc: 0.5172 - val_loss: 1.1429 - val_acc: 0.4878\n",
      "Epoch 16/80\n",
      "290/290 [==============================] - ETA: 1s - loss: 1.1033 - acc: 0.515 - ETA: 0s - loss: 1.1133 - acc: 0.484 - ETA: 0s - loss: 1.0787 - acc: 0.510 - ETA: 0s - loss: 1.0626 - acc: 0.527 - 2s 7ms/step - loss: 1.0817 - acc: 0.5034 - val_loss: 1.1122 - val_acc: 0.4634\n",
      "Epoch 17/80\n",
      "290/290 [==============================] - ETA: 1s - loss: 1.0543 - acc: 0.500 - ETA: 0s - loss: 1.0630 - acc: 0.507 - ETA: 0s - loss: 1.0767 - acc: 0.510 - ETA: 0s - loss: 1.0441 - acc: 0.515 - 2s 6ms/step - loss: 1.0531 - acc: 0.5241 - val_loss: 1.3242 - val_acc: 0.2764\n",
      "Epoch 18/80\n",
      "290/290 [==============================] - ETA: 1s - loss: 1.2542 - acc: 0.406 - ETA: 0s - loss: 1.1797 - acc: 0.437 - ETA: 0s - loss: 1.1065 - acc: 0.484 - ETA: 0s - loss: 1.0670 - acc: 0.507 - 2s 6ms/step - loss: 1.0702 - acc: 0.5034 - val_loss: 1.2051 - val_acc: 0.4797\n",
      "Epoch 19/80\n",
      "290/290 [==============================] - ETA: 1s - loss: 1.1252 - acc: 0.390 - ETA: 0s - loss: 1.1160 - acc: 0.437 - ETA: 0s - loss: 1.1118 - acc: 0.427 - ETA: 0s - loss: 1.1030 - acc: 0.457 - 2s 7ms/step - loss: 1.0862 - acc: 0.4828 - val_loss: 1.0517 - val_acc: 0.4959\n",
      "Epoch 20/80\n",
      "290/290 [==============================] - ETA: 1s - loss: 0.8949 - acc: 0.625 - ETA: 1s - loss: 1.0364 - acc: 0.585 - ETA: 0s - loss: 1.0405 - acc: 0.588 - ETA: 0s - loss: 1.0308 - acc: 0.593 - 2s 7ms/step - loss: 1.0289 - acc: 0.5759 - val_loss: 1.0812 - val_acc: 0.4878\n",
      "Epoch 21/80\n",
      "290/290 [==============================] - ETA: 1s - loss: 1.1299 - acc: 0.515 - ETA: 0s - loss: 1.0868 - acc: 0.554 - ETA: 0s - loss: 1.0273 - acc: 0.588 - ETA: 0s - loss: 1.0544 - acc: 0.578 - 2s 7ms/step - loss: 1.0616 - acc: 0.5552 - val_loss: 1.1147 - val_acc: 0.5610\n",
      "Epoch 22/80\n",
      "290/290 [==============================] - ETA: 1s - loss: 1.1296 - acc: 0.500 - ETA: 0s - loss: 1.0976 - acc: 0.507 - ETA: 0s - loss: 1.0855 - acc: 0.526 - ETA: 0s - loss: 1.0596 - acc: 0.531 - 2s 6ms/step - loss: 1.0503 - acc: 0.5276 - val_loss: 1.1532 - val_acc: 0.4959\n",
      "Epoch 23/80\n",
      "290/290 [==============================] - ETA: 1s - loss: 1.0961 - acc: 0.500 - ETA: 0s - loss: 1.0706 - acc: 0.554 - ETA: 0s - loss: 1.0421 - acc: 0.552 - ETA: 0s - loss: 1.0356 - acc: 0.562 - 2s 7ms/step - loss: 1.0158 - acc: 0.5828 - val_loss: 1.1700 - val_acc: 0.4634\n",
      "Epoch 24/80\n",
      "290/290 [==============================] - ETA: 1s - loss: 1.2215 - acc: 0.484 - ETA: 1s - loss: 1.1101 - acc: 0.523 - ETA: 0s - loss: 1.0649 - acc: 0.541 - ETA: 0s - loss: 1.0310 - acc: 0.574 - 2s 8ms/step - loss: 1.0468 - acc: 0.5724 - val_loss: 1.1261 - val_acc: 0.5203\n",
      "Epoch 25/80\n",
      "290/290 [==============================] - ETA: 1s - loss: 1.0197 - acc: 0.562 - ETA: 1s - loss: 1.0050 - acc: 0.609 - ETA: 0s - loss: 0.9636 - acc: 0.630 - ETA: 0s - loss: 0.9724 - acc: 0.613 - 2s 7ms/step - loss: 0.9697 - acc: 0.6069 - val_loss: 1.1481 - val_acc: 0.4878\n",
      "Epoch 26/80\n",
      "290/290 [==============================] - ETA: 1s - loss: 0.9253 - acc: 0.578 - ETA: 1s - loss: 0.9835 - acc: 0.546 - ETA: 0s - loss: 0.9865 - acc: 0.572 - ETA: 0s - loss: 0.9833 - acc: 0.585 - 2s 7ms/step - loss: 0.9498 - acc: 0.6138 - val_loss: 1.1349 - val_acc: 0.5285\n",
      "Epoch 27/80\n",
      "290/290 [==============================] - ETA: 1s - loss: 0.9000 - acc: 0.718 - ETA: 1s - loss: 0.8889 - acc: 0.679 - ETA: 0s - loss: 0.8861 - acc: 0.666 - ETA: 0s - loss: 0.8469 - acc: 0.675 - 2s 8ms/step - loss: 0.8543 - acc: 0.6690 - val_loss: 1.0950 - val_acc: 0.5285\n",
      "Epoch 28/80\n",
      "290/290 [==============================] - ETA: 1s - loss: 0.6876 - acc: 0.687 - ETA: 1s - loss: 0.9069 - acc: 0.609 - ETA: 0s - loss: 0.9140 - acc: 0.599 - ETA: 0s - loss: 0.9388 - acc: 0.589 - 2s 8ms/step - loss: 0.9274 - acc: 0.6000 - val_loss: 1.0709 - val_acc: 0.5691\n",
      "Epoch 29/80\n"
     ]
    },
    {
     "name": "stdout",
     "output_type": "stream",
     "text": [
      "290/290 [==============================] - ETA: 1s - loss: 0.7498 - acc: 0.687 - ETA: 0s - loss: 0.8744 - acc: 0.625 - ETA: 0s - loss: 0.8707 - acc: 0.630 - ETA: 0s - loss: 0.8521 - acc: 0.640 - 2s 8ms/step - loss: 0.8538 - acc: 0.6345 - val_loss: 0.9986 - val_acc: 0.5772\n",
      "Epoch 30/80\n",
      "290/290 [==============================] - ETA: 1s - loss: 0.7659 - acc: 0.718 - ETA: 1s - loss: 0.7967 - acc: 0.671 - ETA: 0s - loss: 0.8095 - acc: 0.671 - ETA: 0s - loss: 0.8085 - acc: 0.699 - 2s 7ms/step - loss: 0.8128 - acc: 0.6931 - val_loss: 1.1383 - val_acc: 0.5285\n",
      "Epoch 31/80\n",
      "290/290 [==============================] - ETA: 1s - loss: 0.9219 - acc: 0.656 - ETA: 0s - loss: 0.8638 - acc: 0.679 - ETA: 0s - loss: 0.8077 - acc: 0.687 - ETA: 0s - loss: 0.8658 - acc: 0.671 - 2s 8ms/step - loss: 0.8813 - acc: 0.6724 - val_loss: 0.9697 - val_acc: 0.5935\n",
      "Epoch 32/80\n",
      "290/290 [==============================] - ETA: 1s - loss: 0.7619 - acc: 0.671 - ETA: 0s - loss: 0.8209 - acc: 0.664 - ETA: 0s - loss: 0.8394 - acc: 0.661 - ETA: 0s - loss: 0.8263 - acc: 0.660 - 2s 7ms/step - loss: 0.8331 - acc: 0.6552 - val_loss: 1.1918 - val_acc: 0.4228\n",
      "Epoch 33/80\n",
      "290/290 [==============================] - ETA: 1s - loss: 1.0832 - acc: 0.515 - ETA: 0s - loss: 1.0628 - acc: 0.539 - ETA: 0s - loss: 0.9339 - acc: 0.599 - ETA: 0s - loss: 0.8989 - acc: 0.613 - 2s 7ms/step - loss: 0.8971 - acc: 0.6207 - val_loss: 1.1852 - val_acc: 0.5285\n",
      "Epoch 34/80\n",
      "290/290 [==============================] - ETA: 1s - loss: 1.2110 - acc: 0.625 - ETA: 0s - loss: 0.9927 - acc: 0.679 - ETA: 0s - loss: 0.9245 - acc: 0.666 - ETA: 0s - loss: 0.8719 - acc: 0.683 - 2s 6ms/step - loss: 0.8553 - acc: 0.6931 - val_loss: 1.1065 - val_acc: 0.5447\n",
      "Epoch 35/80\n",
      "290/290 [==============================] - ETA: 1s - loss: 0.7220 - acc: 0.718 - ETA: 1s - loss: 0.7003 - acc: 0.718 - ETA: 0s - loss: 0.6984 - acc: 0.734 - ETA: 0s - loss: 0.7063 - acc: 0.726 - 2s 8ms/step - loss: 0.7067 - acc: 0.7345 - val_loss: 1.2294 - val_acc: 0.5285\n",
      "Epoch 36/80\n",
      "290/290 [==============================] - ETA: 1s - loss: 0.8586 - acc: 0.609 - ETA: 0s - loss: 0.9871 - acc: 0.570 - ETA: 0s - loss: 1.0268 - acc: 0.536 - ETA: 0s - loss: 1.0221 - acc: 0.527 - 2s 7ms/step - loss: 0.9834 - acc: 0.5552 - val_loss: 1.0219 - val_acc: 0.5854\n",
      "Epoch 37/80\n",
      "290/290 [==============================] - ETA: 1s - loss: 0.7099 - acc: 0.703 - ETA: 0s - loss: 0.7262 - acc: 0.726 - ETA: 0s - loss: 0.7092 - acc: 0.729 - ETA: 0s - loss: 0.7393 - acc: 0.707 - 2s 7ms/step - loss: 0.7223 - acc: 0.7138 - val_loss: 1.0246 - val_acc: 0.6098\n",
      "Epoch 38/80\n",
      "290/290 [==============================] - ETA: 1s - loss: 0.5685 - acc: 0.765 - ETA: 0s - loss: 0.6475 - acc: 0.718 - ETA: 0s - loss: 0.6677 - acc: 0.724 - ETA: 0s - loss: 0.6766 - acc: 0.718 - 2s 7ms/step - loss: 0.6681 - acc: 0.7138 - val_loss: 1.0154 - val_acc: 0.6179\n",
      "Epoch 39/80\n",
      "290/290 [==============================] - ETA: 1s - loss: 0.5912 - acc: 0.796 - ETA: 1s - loss: 0.6834 - acc: 0.734 - ETA: 0s - loss: 0.6464 - acc: 0.744 - ETA: 0s - loss: 0.6767 - acc: 0.726 - 2s 7ms/step - loss: 0.6930 - acc: 0.7172 - val_loss: 0.9784 - val_acc: 0.6016\n",
      "Epoch 40/80\n",
      "290/290 [==============================] - ETA: 1s - loss: 0.8230 - acc: 0.656 - ETA: 1s - loss: 0.7407 - acc: 0.679 - ETA: 0s - loss: 0.7042 - acc: 0.692 - ETA: 0s - loss: 0.7133 - acc: 0.707 - 2s 7ms/step - loss: 0.6899 - acc: 0.7207 - val_loss: 1.0497 - val_acc: 0.5935\n",
      "Epoch 41/80\n",
      "290/290 [==============================] - ETA: 1s - loss: 0.6781 - acc: 0.734 - ETA: 0s - loss: 0.6524 - acc: 0.734 - ETA: 0s - loss: 0.6094 - acc: 0.744 - ETA: 0s - loss: 0.6256 - acc: 0.742 - 2s 7ms/step - loss: 0.6206 - acc: 0.7517 - val_loss: 1.1060 - val_acc: 0.5854\n",
      "Epoch 42/80\n",
      "290/290 [==============================] - ETA: 1s - loss: 0.5986 - acc: 0.765 - ETA: 1s - loss: 0.6575 - acc: 0.757 - ETA: 0s - loss: 0.6766 - acc: 0.750 - ETA: 0s - loss: 0.6417 - acc: 0.753 - 2s 7ms/step - loss: 0.6308 - acc: 0.7621 - val_loss: 1.1164 - val_acc: 0.5691\n",
      "Epoch 43/80\n",
      "290/290 [==============================] - ETA: 1s - loss: 0.6881 - acc: 0.734 - ETA: 1s - loss: 0.6212 - acc: 0.765 - ETA: 0s - loss: 0.6171 - acc: 0.765 - ETA: 0s - loss: 0.6224 - acc: 0.769 - 2s 7ms/step - loss: 0.6450 - acc: 0.7621 - val_loss: 1.0379 - val_acc: 0.5772\n",
      "Epoch 44/80\n",
      "290/290 [==============================] - ETA: 1s - loss: 0.7474 - acc: 0.718 - ETA: 0s - loss: 0.6502 - acc: 0.750 - ETA: 0s - loss: 0.6286 - acc: 0.739 - ETA: 0s - loss: 0.6303 - acc: 0.722 - 2s 7ms/step - loss: 0.6151 - acc: 0.7310 - val_loss: 1.1112 - val_acc: 0.5935\n",
      "Epoch 45/80\n",
      "290/290 [==============================] - ETA: 1s - loss: 0.6519 - acc: 0.796 - ETA: 0s - loss: 0.6663 - acc: 0.757 - ETA: 0s - loss: 0.6330 - acc: 0.755 - ETA: 0s - loss: 0.6113 - acc: 0.746 - 2s 7ms/step - loss: 0.5925 - acc: 0.7586 - val_loss: 1.1871 - val_acc: 0.5691\n",
      "Epoch 46/80\n",
      "290/290 [==============================] - ETA: 1s - loss: 0.5361 - acc: 0.765 - ETA: 0s - loss: 0.5297 - acc: 0.773 - ETA: 0s - loss: 0.5482 - acc: 0.791 - ETA: 0s - loss: 0.5524 - acc: 0.789 - 2s 7ms/step - loss: 0.5474 - acc: 0.7931 - val_loss: 1.0936 - val_acc: 0.5854\n",
      "Epoch 47/80\n",
      "290/290 [==============================] - ETA: 1s - loss: 0.4013 - acc: 0.859 - ETA: 0s - loss: 0.6628 - acc: 0.750 - ETA: 0s - loss: 0.6777 - acc: 0.729 - ETA: 0s - loss: 0.7740 - acc: 0.695 - 2s 7ms/step - loss: 0.7941 - acc: 0.6862 - val_loss: 1.2472 - val_acc: 0.4878\n",
      "Epoch 48/80\n",
      "290/290 [==============================] - ETA: 1s - loss: 0.9336 - acc: 0.609 - ETA: 1s - loss: 0.9686 - acc: 0.585 - ETA: 0s - loss: 0.8807 - acc: 0.640 - ETA: 0s - loss: 0.8378 - acc: 0.679 - 2s 7ms/step - loss: 0.8141 - acc: 0.6828 - val_loss: 1.0851 - val_acc: 0.5610\n",
      "Epoch 49/80\n",
      "290/290 [==============================] - ETA: 1s - loss: 0.6759 - acc: 0.703 - ETA: 0s - loss: 0.6431 - acc: 0.726 - ETA: 0s - loss: 0.5886 - acc: 0.750 - ETA: 0s - loss: 0.6206 - acc: 0.742 - 2s 7ms/step - loss: 0.6107 - acc: 0.7448 - val_loss: 1.1693 - val_acc: 0.5366\n",
      "Epoch 50/80\n",
      "290/290 [==============================] - ETA: 1s - loss: 0.6970 - acc: 0.656 - ETA: 1s - loss: 0.5590 - acc: 0.757 - ETA: 0s - loss: 0.5157 - acc: 0.786 - ETA: 0s - loss: 0.5519 - acc: 0.777 - 2s 7ms/step - loss: 0.5545 - acc: 0.7793 - val_loss: 1.0868 - val_acc: 0.5447\n",
      "Epoch 51/80\n",
      "290/290 [==============================] - ETA: 1s - loss: 0.6171 - acc: 0.750 - ETA: 0s - loss: 0.5151 - acc: 0.804 - ETA: 0s - loss: 0.4934 - acc: 0.822 - ETA: 0s - loss: 0.5561 - acc: 0.793 - 2s 6ms/step - loss: 0.5499 - acc: 0.8000 - val_loss: 1.0813 - val_acc: 0.6260\n",
      "Epoch 52/80\n",
      "290/290 [==============================] - ETA: 1s - loss: 0.4475 - acc: 0.859 - ETA: 0s - loss: 0.4706 - acc: 0.859 - ETA: 0s - loss: 0.4764 - acc: 0.833 - ETA: 0s - loss: 0.4717 - acc: 0.832 - 2s 7ms/step - loss: 0.4577 - acc: 0.8379 - val_loss: 1.2151 - val_acc: 0.5772\n",
      "Epoch 53/80\n",
      "290/290 [==============================] - ETA: 1s - loss: 0.4450 - acc: 0.765 - ETA: 0s - loss: 0.4524 - acc: 0.789 - ETA: 0s - loss: 0.4531 - acc: 0.796 - ETA: 0s - loss: 0.4579 - acc: 0.793 - 2s 7ms/step - loss: 0.4712 - acc: 0.7862 - val_loss: 1.1246 - val_acc: 0.6016\n",
      "Epoch 54/80\n",
      "290/290 [==============================] - ETA: 1s - loss: 0.3699 - acc: 0.875 - ETA: 0s - loss: 0.4217 - acc: 0.835 - ETA: 0s - loss: 0.4489 - acc: 0.828 - ETA: 0s - loss: 0.4759 - acc: 0.812 - 2s 6ms/step - loss: 0.4872 - acc: 0.8103 - val_loss: 1.1874 - val_acc: 0.6098\n",
      "Epoch 55/80\n",
      "290/290 [==============================] - ETA: 1s - loss: 0.6117 - acc: 0.765 - ETA: 0s - loss: 0.5635 - acc: 0.773 - ETA: 0s - loss: 0.5200 - acc: 0.781 - ETA: 0s - loss: 0.4859 - acc: 0.800 - 2s 6ms/step - loss: 0.4735 - acc: 0.8034 - val_loss: 1.2999 - val_acc: 0.5935\n",
      "Epoch 56/80\n",
      "290/290 [==============================] - ETA: 1s - loss: 0.4482 - acc: 0.812 - ETA: 0s - loss: 0.5148 - acc: 0.781 - ETA: 0s - loss: 0.5151 - acc: 0.791 - ETA: 0s - loss: 0.6237 - acc: 0.761 - 2s 6ms/step - loss: 0.6306 - acc: 0.7586 - val_loss: 1.3051 - val_acc: 0.6179\n",
      "Epoch 57/80\n",
      "290/290 [==============================] - ETA: 1s - loss: 0.4946 - acc: 0.796 - ETA: 0s - loss: 0.6284 - acc: 0.742 - ETA: 0s - loss: 0.6466 - acc: 0.760 - ETA: 0s - loss: 0.5889 - acc: 0.773 - 2s 6ms/step - loss: 0.5704 - acc: 0.7828 - val_loss: 1.3381 - val_acc: 0.5772\n"
     ]
    },
    {
     "name": "stdout",
     "output_type": "stream",
     "text": [
      "Epoch 58/80\n",
      "290/290 [==============================] - ETA: 1s - loss: 0.5303 - acc: 0.750 - ETA: 0s - loss: 0.4538 - acc: 0.781 - ETA: 0s - loss: 0.4467 - acc: 0.796 - ETA: 0s - loss: 0.4712 - acc: 0.793 - 2s 6ms/step - loss: 0.5065 - acc: 0.7828 - val_loss: 1.5000 - val_acc: 0.5447\n",
      "Epoch 59/80\n",
      "290/290 [==============================] - ETA: 1s - loss: 0.8335 - acc: 0.718 - ETA: 0s - loss: 0.7844 - acc: 0.726 - ETA: 0s - loss: 0.7147 - acc: 0.729 - ETA: 0s - loss: 0.6256 - acc: 0.757 - 2s 6ms/step - loss: 0.5997 - acc: 0.7690 - val_loss: 1.4538 - val_acc: 0.5610\n",
      "Epoch 60/80\n",
      "290/290 [==============================] - ETA: 1s - loss: 0.3238 - acc: 0.890 - ETA: 0s - loss: 0.5783 - acc: 0.820 - ETA: 0s - loss: 0.6597 - acc: 0.776 - ETA: 0s - loss: 0.6476 - acc: 0.769 - 2s 7ms/step - loss: 0.6379 - acc: 0.7690 - val_loss: 1.1163 - val_acc: 0.6016\n",
      "Epoch 61/80\n",
      "290/290 [==============================] - ETA: 1s - loss: 0.4068 - acc: 0.843 - ETA: 1s - loss: 0.4894 - acc: 0.773 - ETA: 0s - loss: 0.4569 - acc: 0.791 - ETA: 0s - loss: 0.4641 - acc: 0.796 - 2s 8ms/step - loss: 0.4528 - acc: 0.8069 - val_loss: 1.1862 - val_acc: 0.5935\n",
      "Epoch 62/80\n",
      "290/290 [==============================] - ETA: 1s - loss: 0.4272 - acc: 0.765 - ETA: 0s - loss: 0.4691 - acc: 0.796 - ETA: 0s - loss: 0.4440 - acc: 0.802 - ETA: 0s - loss: 0.4193 - acc: 0.820 - 2s 6ms/step - loss: 0.4197 - acc: 0.8241 - val_loss: 1.1475 - val_acc: 0.6260\n",
      "Epoch 63/80\n",
      "290/290 [==============================] - ETA: 1s - loss: 0.2692 - acc: 0.906 - ETA: 1s - loss: 0.3113 - acc: 0.898 - ETA: 0s - loss: 0.3663 - acc: 0.859 - ETA: 0s - loss: 0.4106 - acc: 0.828 - 2s 7ms/step - loss: 0.4127 - acc: 0.8310 - val_loss: 1.1585 - val_acc: 0.6260\n",
      "Epoch 64/80\n",
      "290/290 [==============================] - ETA: 1s - loss: 0.5123 - acc: 0.765 - ETA: 0s - loss: 0.4863 - acc: 0.781 - ETA: 0s - loss: 0.4512 - acc: 0.802 - ETA: 0s - loss: 0.4473 - acc: 0.808 - 2s 6ms/step - loss: 0.4381 - acc: 0.8069 - val_loss: 1.2574 - val_acc: 0.5935\n",
      "Epoch 65/80\n",
      "290/290 [==============================] - ETA: 1s - loss: 0.4155 - acc: 0.828 - ETA: 0s - loss: 0.4086 - acc: 0.843 - ETA: 0s - loss: 0.3783 - acc: 0.859 - ETA: 0s - loss: 0.3890 - acc: 0.863 - 2s 6ms/step - loss: 0.3649 - acc: 0.8690 - val_loss: 1.3802 - val_acc: 0.6179\n",
      "Epoch 66/80\n",
      "290/290 [==============================] - ETA: 1s - loss: 0.4233 - acc: 0.859 - ETA: 1s - loss: 0.6858 - acc: 0.750 - ETA: 0s - loss: 0.6332 - acc: 0.755 - ETA: 0s - loss: 0.6090 - acc: 0.757 - 2s 7ms/step - loss: 0.6070 - acc: 0.7517 - val_loss: 1.3210 - val_acc: 0.6016\n",
      "Epoch 67/80\n",
      "290/290 [==============================] - ETA: 1s - loss: 0.4546 - acc: 0.812 - ETA: 0s - loss: 0.3813 - acc: 0.835 - ETA: 0s - loss: 0.3795 - acc: 0.812 - ETA: 0s - loss: 0.3808 - acc: 0.816 - 2s 6ms/step - loss: 0.3703 - acc: 0.8207 - val_loss: 1.2356 - val_acc: 0.6341\n",
      "Epoch 68/80\n",
      "290/290 [==============================] - ETA: 1s - loss: 0.4941 - acc: 0.781 - ETA: 0s - loss: 0.4018 - acc: 0.851 - ETA: 0s - loss: 0.3574 - acc: 0.885 - ETA: 0s - loss: 0.3289 - acc: 0.886 - 2s 6ms/step - loss: 0.3278 - acc: 0.8931 - val_loss: 1.3156 - val_acc: 0.6179\n",
      "Epoch 69/80\n",
      "290/290 [==============================] - ETA: 1s - loss: 0.3957 - acc: 0.828 - ETA: 0s - loss: 0.2779 - acc: 0.890 - ETA: 0s - loss: 0.3067 - acc: 0.875 - ETA: 0s - loss: 0.3484 - acc: 0.863 - 2s 6ms/step - loss: 0.3308 - acc: 0.8724 - val_loss: 1.3835 - val_acc: 0.6341\n",
      "Epoch 70/80\n",
      "290/290 [==============================] - ETA: 1s - loss: 0.2585 - acc: 0.921 - ETA: 0s - loss: 0.2687 - acc: 0.906 - ETA: 0s - loss: 0.2760 - acc: 0.901 - ETA: 0s - loss: 0.2959 - acc: 0.894 - 2s 6ms/step - loss: 0.3145 - acc: 0.8862 - val_loss: 1.7630 - val_acc: 0.5610\n",
      "Epoch 71/80\n",
      "290/290 [==============================] - ETA: 1s - loss: 0.2930 - acc: 0.906 - ETA: 0s - loss: 0.4966 - acc: 0.812 - ETA: 0s - loss: 0.5389 - acc: 0.791 - ETA: 0s - loss: 0.4806 - acc: 0.796 - 2s 6ms/step - loss: 0.4686 - acc: 0.8069 - val_loss: 1.6708 - val_acc: 0.5854\n",
      "Epoch 72/80\n",
      "290/290 [==============================] - ETA: 1s - loss: 0.3761 - acc: 0.875 - ETA: 0s - loss: 0.3589 - acc: 0.875 - ETA: 0s - loss: 0.3347 - acc: 0.890 - ETA: 0s - loss: 0.3367 - acc: 0.890 - 2s 6ms/step - loss: 0.3423 - acc: 0.8828 - val_loss: 1.5622 - val_acc: 0.6098\n",
      "Epoch 73/80\n",
      "290/290 [==============================] - ETA: 1s - loss: 0.1948 - acc: 0.921 - ETA: 0s - loss: 0.2638 - acc: 0.882 - ETA: 0s - loss: 0.2480 - acc: 0.895 - ETA: 0s - loss: 0.2379 - acc: 0.894 - 2s 6ms/step - loss: 0.2429 - acc: 0.8931 - val_loss: 1.7053 - val_acc: 0.5285\n",
      "Epoch 74/80\n",
      "290/290 [==============================] - ETA: 1s - loss: 0.4081 - acc: 0.875 - ETA: 0s - loss: 0.3414 - acc: 0.890 - ETA: 0s - loss: 0.3507 - acc: 0.880 - ETA: 0s - loss: 0.3116 - acc: 0.898 - 2s 6ms/step - loss: 0.3136 - acc: 0.8966 - val_loss: 1.7389 - val_acc: 0.5691\n",
      "Epoch 75/80\n",
      "290/290 [==============================] - ETA: 1s - loss: 0.3509 - acc: 0.843 - ETA: 0s - loss: 0.3287 - acc: 0.867 - ETA: 0s - loss: 0.3494 - acc: 0.864 - ETA: 0s - loss: 0.3709 - acc: 0.871 - 2s 6ms/step - loss: 0.4129 - acc: 0.8552 - val_loss: 2.0620 - val_acc: 0.4390\n",
      "Epoch 76/80\n",
      "290/290 [==============================] - ETA: 1s - loss: 1.1419 - acc: 0.671 - ETA: 0s - loss: 0.7196 - acc: 0.757 - ETA: 0s - loss: 0.5966 - acc: 0.786 - ETA: 0s - loss: 0.5520 - acc: 0.800 - 2s 6ms/step - loss: 0.5270 - acc: 0.8069 - val_loss: 1.7634 - val_acc: 0.5447\n",
      "Epoch 77/80\n",
      "290/290 [==============================] - ETA: 1s - loss: 0.5903 - acc: 0.812 - ETA: 0s - loss: 0.4856 - acc: 0.843 - ETA: 0s - loss: 0.4251 - acc: 0.864 - ETA: 0s - loss: 0.4271 - acc: 0.851 - 2s 6ms/step - loss: 0.3962 - acc: 0.8655 - val_loss: 1.6036 - val_acc: 0.5935\n",
      "Epoch 78/80\n",
      "290/290 [==============================] - ETA: 1s - loss: 0.3467 - acc: 0.843 - ETA: 0s - loss: 0.3242 - acc: 0.867 - ETA: 0s - loss: 0.2903 - acc: 0.890 - ETA: 0s - loss: 0.3004 - acc: 0.882 - 2s 6ms/step - loss: 0.3046 - acc: 0.8759 - val_loss: 1.4999 - val_acc: 0.5935\n",
      "Epoch 79/80\n",
      "290/290 [==============================] - ETA: 1s - loss: 0.4673 - acc: 0.796 - ETA: 0s - loss: 0.3522 - acc: 0.851 - ETA: 0s - loss: 0.3215 - acc: 0.869 - ETA: 0s - loss: 0.3098 - acc: 0.882 - 2s 6ms/step - loss: 0.3090 - acc: 0.8793 - val_loss: 1.5434 - val_acc: 0.5935\n",
      "Epoch 80/80\n",
      "290/290 [==============================] - ETA: 1s - loss: 0.2002 - acc: 0.906 - ETA: 0s - loss: 0.2760 - acc: 0.890 - ETA: 0s - loss: 0.2708 - acc: 0.901 - ETA: 0s - loss: 0.2748 - acc: 0.902 - 2s 6ms/step - loss: 0.2751 - acc: 0.9034 - val_loss: 1.4732 - val_acc: 0.5772\n"
     ]
    }
   ],
   "source": [
    "epochs = 80\n",
    "batch_size = 64\n",
    "training = model.fit(train_features, train_labels,\n",
    "                     validation_data=(val_features, val_labels),\n",
    "                     epochs=epochs,\n",
    "                     callbacks=[msave],\n",
    "                     batch_size=batch_size, \n",
    "                     verbose=1)"
   ]
  },
  {
   "cell_type": "code",
   "execution_count": 13,
   "metadata": {},
   "outputs": [
    {
     "data": {
      "image/png": "[encoded data removed]",
      "text/plain": [
       "<matplotlib.figure.Figure at 0x2d3290f518>"
      ]
     },
     "metadata": {},
     "output_type": "display_data"
    },
    {
     "data": {
      "image/png": "[encoded data removed]",
      "text/plain": [
       "<matplotlib.figure.Figure at 0x2d31828fd0>"
      ]
     },
     "metadata": {},
     "output_type": "display_data"
    }
   ],
   "source": [
    "loss = training.history['loss']\n",
    "val_loss = training.history['val_loss']\n",
    "acc = training.history['acc']\n",
    "val_acc = training.history['val_acc']\n",
    "\n",
    "# loss plot\n",
    "tra = plt.plot(loss)\n",
    "val = plt.plot(val_loss, 'r')\n",
    "plt.xlabel('Epochs')\n",
    "plt.ylabel('Loss')\n",
    "plt.title('Loss')\n",
    "plt.legend([\"Training\", \"Validation\"])\n",
    "\n",
    "plt.show()\n",
    "\n",
    "# accuracy plot\n",
    "plt.plot(acc)\n",
    "plt.plot(val_acc, 'r')\n",
    "plt.xlabel('Epochs')\n",
    "plt.ylabel('Loss')\n",
    "plt.title('Accuracy')\n",
    "plt.legend(['Training', 'Validation'], loc=4)\n",
    "plt.show()"
   ]
  },
  {
   "cell_type": "code",
   "execution_count": 14,
   "metadata": {},
   "outputs": [
    {
     "name": "stderr",
     "output_type": "stream",
     "text": [
      "100%|████████████████████████████████████████| 105/105 [00:03<00:00, 29.97it/s]\n"
     ]
    }
   ],
   "source": [
    "testing_data = []\n",
    "for img in tqdm(os.listdir(TEST_DIR)):\n",
    "#     path = os.path.join(TEST_DIR, img)\n",
    "#     img_num = img.split('.')[0]\n",
    "#     img = cv2.imread(path, cv2.IMREAD_GRAYSCALE)\n",
    "#     img = cv2.resize(img, (IMG_SIZE, IMG_SIZE))\n",
    "#     testing_data.append([np.array(img), img_num])\n",
    "    \n",
    "    \n",
    "    \n",
    "    label = label_img(img)\n",
    "\n",
    "    path = os.path.join(TEST_DIR, img)\n",
    "\n",
    "    # loading the image from the path and then converting them into\n",
    "    # greyscale for easier covnet prob\n",
    "    img = cv2.imread(path, cv2.IMREAD_GRAYSCALE)\n",
    "\n",
    "    # resizing the image for processing them in the covnet\n",
    "    img = cv2.resize(img, (IMG_SIZE, IMG_SIZE))\n",
    "\n",
    "    # final step-forming the training data list with numpy array of the images\n",
    "    testing_data.append([np.array(img), np.array(label)])\n",
    "\n",
    "         \n",
    "shuffle(testing_data)"
   ]
  },
  {
   "cell_type": "code",
   "execution_count": 15,
   "metadata": {},
   "outputs": [
    {
     "name": "stdout",
     "output_type": "stream",
     "text": [
      "x:  (105, 28, 28, 1)\n",
      "Y:  (105, 4)\n"
     ]
    }
   ],
   "source": [
    "test_features = np.array([i[0] for i in testing_data]).reshape(-1, IMG_SIZE, IMG_SIZE, 1)\n",
    "test_labels = np.array([i[1] for i in testing_data])\n",
    "# test_labels = np.argmax(test_labels, axis=1)\n",
    "print('x: ', test_features.shape)\n",
    "print('Y: ', test_labels.shape)"
   ]
  },
  {
   "cell_type": "code",
   "execution_count": 16,
   "metadata": {},
   "outputs": [
    {
     "name": "stdout",
     "output_type": "stream",
     "text": [
      "pred\n",
      "[1, 1, 1, 3, 2, 3, 0, 2, 3, 1, 0, 0, 2, 0, 3, 2, 3, 0, 3, 3, 2, 3, 0, 1, 2, 1, 3, 0, 2, 2, 1, 1, 3, 1, 0, 2, 1, 3, 3, 3, 2, 1, 0, 3, 2, 3, 2, 1, 3, 1, 0, 1, 3, 2, 3, 0, 2, 0, 3, 1, 2, 0, 0, 3, 1, 3, 3, 2, 0, 0, 3, 2, 2, 3, 0, 2, 1, 3, 3, 3, 1, 0, 3, 0, 0, 0, 2, 3, 1, 3, 0, 1, 2, 1, 1, 2, 2, 0, 3, 0, 2, 1, 2, 1, 1]\n",
      "[2, 3, 0, 3, 2, 3, 0, 2, 3, 0, 1, 0, 2, 0, 3, 2, 3, 2, 3, 3, 2, 3, 2, 0, 2, 3, 3, 3, 2, 2, 0, 2, 3, 3, 0, 2, 3, 3, 3, 3, 2, 1, 0, 0, 3, 0, 2, 2, 3, 0, 0, 2, 3, 2, 3, 0, 2, 0, 0, 0, 2, 0, 0, 3, 2, 3, 1, 3, 0, 0, 3, 2, 2, 3, 2, 2, 1, 3, 1, 3, 0, 1, 3, 0, 2, 2, 2, 3, 3, 1, 0, 0, 2, 3, 0, 2, 2, 0, 3, 0, 2, 2, 2, 0, 0]\n",
      "Accuracy cnn : 0.6285714285714286\n"
     ]
    }
   ],
   "source": [
    "from sklearn import metrics\n",
    "Predicted_label = []\n",
    "Label_OF_test_data=[]\n",
    "print(\"pred\")\n",
    "pred = model.predict(test_features)#, batch_size=batch_size, verbose=1)\n",
    "# print(pred)\n",
    "for val in pred:\n",
    "    if np.argmax(val) == 0:\n",
    "#         str_label ='Happy'\n",
    "        Predicted_label.append(0)\n",
    "    elif np.argmax(val) == 1:\n",
    "#         str_label ='sad'\n",
    "        Predicted_label.append(1)\n",
    "    elif np.argmax(val) == 2:\n",
    "#         str_label ='Angry'\n",
    "        Predicted_label.append(2)\n",
    "    elif np.argmax(val) == 3:\n",
    "#         str_label ='normal'\n",
    "        Predicted_label.append(3)\n",
    "for val in test_labels:\n",
    "    if np.argmax(val) == 0:\n",
    "#         str_label ='Happy'\n",
    "        Label_OF_test_data.append(0)\n",
    "    elif np.argmax(val) == 1:\n",
    "#         str_label ='sad'\n",
    "        Label_OF_test_data.append(1)\n",
    "    elif np.argmax(val) == 2:\n",
    "#         str_label ='Angry'\n",
    "        Label_OF_test_data.append(2)\n",
    "    elif np.argmax(val) == 3:\n",
    "#         str_label ='normal'\n",
    "        Label_OF_test_data.append(3)\n",
    "    \n",
    "    \n",
    "    \n",
    "    \n",
    "score=metrics.accuracy_score(Label_OF_test_data, Predicted_label)\n",
    "print(Label_OF_test_data)\n",
    "print(Predicted_label)\n",
    "print('Accuracy cnn : {}'.format(score))\n",
    "# convert predicions from categorical back to 0...9 digits\n",
    "# pred_digits = np.argmax(pred, axis=1)\n",
    "# print(pred_digits)\n",
    "\n",
    "# score=metrics.accuracy_score(test_labels, pred_digits)\n",
    "# print(Label_OF_test_data)\n",
    "# print(Predicted_label)\n",
    "# print('Accuracy cnn : {}'.format(score))"
   ]
  },
  {
   "cell_type": "code",
   "execution_count": 59,
   "metadata": {},
   "outputs": [
    {
     "name": "stderr",
     "output_type": "stream",
     "text": [
      "C:\\Users\\DELL\\Anaconda3\\lib\\site-packages\\ipykernel_launcher.py:22: FutureWarning: elementwise comparison failed; returning scalar instead, but in the future will perform elementwise comparison\n",
      "C:\\Users\\DELL\\Anaconda3\\lib\\site-packages\\ipykernel_launcher.py:24: FutureWarning: elementwise comparison failed; returning scalar instead, but in the future will perform elementwise comparison\n",
      "C:\\Users\\DELL\\Anaconda3\\lib\\site-packages\\ipykernel_launcher.py:26: FutureWarning: elementwise comparison failed; returning scalar instead, but in the future will perform elementwise comparison\n",
      "C:\\Users\\DELL\\Anaconda3\\lib\\site-packages\\ipykernel_launcher.py:28: FutureWarning: elementwise comparison failed; returning scalar instead, but in the future will perform elementwise comparison\n"
     ]
    },
    {
     "ename": "ValueError",
     "evalue": "Error when checking : expected input_2 to have 4 dimensions, but got array with shape (28, 28, 1)",
     "output_type": "error",
     "traceback": [
      "\u001b[1;31m---------------------------------------------------------------------------\u001b[0m",
      "\u001b[1;31mValueError\u001b[0m                                Traceback (most recent call last)",
      "\u001b[1;32m<ipython-input-59-aa60cdd1aba0>\u001b[0m in \u001b[0;36m<module>\u001b[1;34m()\u001b[0m\n\u001b[0;32m     43\u001b[0m \u001b[1;31m#     if b:\u001b[0m\u001b[1;33m\u001b[0m\u001b[1;33m\u001b[0m\u001b[0m\n\u001b[0;32m     44\u001b[0m \u001b[1;31m#         break\u001b[0m\u001b[1;33m\u001b[0m\u001b[1;33m\u001b[0m\u001b[0m\n\u001b[1;32m---> 45\u001b[1;33m     \u001b[0mmodel_out\u001b[0m \u001b[1;33m=\u001b[0m \u001b[0mmodel\u001b[0m\u001b[1;33m.\u001b[0m\u001b[0mpredict\u001b[0m\u001b[1;33m(\u001b[0m\u001b[1;33m[\u001b[0m\u001b[0mdata\u001b[0m\u001b[1;33m]\u001b[0m\u001b[1;33m)\u001b[0m\u001b[1;33m[\u001b[0m\u001b[1;36m0\u001b[0m\u001b[1;33m]\u001b[0m\u001b[1;33m\u001b[0m\u001b[0m\n\u001b[0m\u001b[0;32m     46\u001b[0m \u001b[1;31m#     print(np.argmax(model_out))\u001b[0m\u001b[1;33m\u001b[0m\u001b[1;33m\u001b[0m\u001b[0m\n\u001b[0;32m     47\u001b[0m     \u001b[1;32mif\u001b[0m \u001b[0mnp\u001b[0m\u001b[1;33m.\u001b[0m\u001b[0margmax\u001b[0m\u001b[1;33m(\u001b[0m\u001b[0mmodel_out\u001b[0m\u001b[1;33m)\u001b[0m \u001b[1;33m==\u001b[0m \u001b[1;36m0\u001b[0m\u001b[1;33m:\u001b[0m\u001b[1;33m\u001b[0m\u001b[0m\n",
      "\u001b[1;32m~\\Anaconda3\\lib\\site-packages\\keras\\engine\\training.py\u001b[0m in \u001b[0;36mpredict\u001b[1;34m(self, x, batch_size, verbose, steps)\u001b[0m\n\u001b[0;32m   1770\u001b[0m         x = _standardize_input_data(x, self._feed_input_names,\n\u001b[0;32m   1771\u001b[0m                                     \u001b[0mself\u001b[0m\u001b[1;33m.\u001b[0m\u001b[0m_feed_input_shapes\u001b[0m\u001b[1;33m,\u001b[0m\u001b[1;33m\u001b[0m\u001b[0m\n\u001b[1;32m-> 1772\u001b[1;33m                                     check_batch_axis=False)\n\u001b[0m\u001b[0;32m   1773\u001b[0m         \u001b[1;32mif\u001b[0m \u001b[0mself\u001b[0m\u001b[1;33m.\u001b[0m\u001b[0mstateful\u001b[0m\u001b[1;33m:\u001b[0m\u001b[1;33m\u001b[0m\u001b[0m\n\u001b[0;32m   1774\u001b[0m             \u001b[1;32mif\u001b[0m \u001b[0mx\u001b[0m\u001b[1;33m[\u001b[0m\u001b[1;36m0\u001b[0m\u001b[1;33m]\u001b[0m\u001b[1;33m.\u001b[0m\u001b[0mshape\u001b[0m\u001b[1;33m[\u001b[0m\u001b[1;36m0\u001b[0m\u001b[1;33m]\u001b[0m \u001b[1;33m>\u001b[0m \u001b[0mbatch_size\u001b[0m \u001b[1;32mand\u001b[0m \u001b[0mx\u001b[0m\u001b[1;33m[\u001b[0m\u001b[1;36m0\u001b[0m\u001b[1;33m]\u001b[0m\u001b[1;33m.\u001b[0m\u001b[0mshape\u001b[0m\u001b[1;33m[\u001b[0m\u001b[1;36m0\u001b[0m\u001b[1;33m]\u001b[0m \u001b[1;33m%\u001b[0m \u001b[0mbatch_size\u001b[0m \u001b[1;33m!=\u001b[0m \u001b[1;36m0\u001b[0m\u001b[1;33m:\u001b[0m\u001b[1;33m\u001b[0m\u001b[0m\n",
      "\u001b[1;32m~\\Anaconda3\\lib\\site-packages\\keras\\engine\\training.py\u001b[0m in \u001b[0;36m_standardize_input_data\u001b[1;34m(data, names, shapes, check_batch_axis, exception_prefix)\u001b[0m\n\u001b[0;32m    139\u001b[0m                                  \u001b[1;34m' to have '\u001b[0m \u001b[1;33m+\u001b[0m \u001b[0mstr\u001b[0m\u001b[1;33m(\u001b[0m\u001b[0mlen\u001b[0m\u001b[1;33m(\u001b[0m\u001b[0mshapes\u001b[0m\u001b[1;33m[\u001b[0m\u001b[0mi\u001b[0m\u001b[1;33m]\u001b[0m\u001b[1;33m)\u001b[0m\u001b[1;33m)\u001b[0m \u001b[1;33m+\u001b[0m\u001b[1;33m\u001b[0m\u001b[0m\n\u001b[0;32m    140\u001b[0m                                  \u001b[1;34m' dimensions, but got array with shape '\u001b[0m \u001b[1;33m+\u001b[0m\u001b[1;33m\u001b[0m\u001b[0m\n\u001b[1;32m--> 141\u001b[1;33m                                  str(array.shape))\n\u001b[0m\u001b[0;32m    142\u001b[0m             \u001b[1;32mfor\u001b[0m \u001b[0mj\u001b[0m\u001b[1;33m,\u001b[0m \u001b[1;33m(\u001b[0m\u001b[0mdim\u001b[0m\u001b[1;33m,\u001b[0m \u001b[0mref_dim\u001b[0m\u001b[1;33m)\u001b[0m \u001b[1;32min\u001b[0m \u001b[0menumerate\u001b[0m\u001b[1;33m(\u001b[0m\u001b[0mzip\u001b[0m\u001b[1;33m(\u001b[0m\u001b[0marray\u001b[0m\u001b[1;33m.\u001b[0m\u001b[0mshape\u001b[0m\u001b[1;33m,\u001b[0m \u001b[0mshapes\u001b[0m\u001b[1;33m[\u001b[0m\u001b[0mi\u001b[0m\u001b[1;33m]\u001b[0m\u001b[1;33m)\u001b[0m\u001b[1;33m)\u001b[0m\u001b[1;33m:\u001b[0m\u001b[1;33m\u001b[0m\u001b[0m\n\u001b[0;32m    143\u001b[0m                 \u001b[1;32mif\u001b[0m \u001b[1;32mnot\u001b[0m \u001b[0mj\u001b[0m \u001b[1;32mand\u001b[0m \u001b[1;32mnot\u001b[0m \u001b[0mcheck_batch_axis\u001b[0m\u001b[1;33m:\u001b[0m\u001b[1;33m\u001b[0m\u001b[0m\n",
      "\u001b[1;31mValueError\u001b[0m: Error when checking : expected input_2 to have 4 dimensions, but got array with shape (28, 28, 1)"
     ]
    }
   ],
   "source": [
    "from sklearn import metrics\n",
    "import matplotlib.pyplot as plt\n",
    "# if you need to create the data:\n",
    "# test_data = process_test_data()\n",
    "# if you already have some saved:\n",
    "# test_data = np.load('test_data.npy')\n",
    " \n",
    "# fig = plt.figure()\n",
    "Label_OF_test_data = [] \n",
    "Predicted_label = []\n",
    "Predicted_label_RandomForest = []\n",
    "b = True\n",
    "\n",
    "\n",
    "for num, data in enumerate(testing_data):\n",
    "    # cat: [1, 0]\n",
    "    # dog: [0, 1]\n",
    "     \n",
    "    img_num = data[1]\n",
    "    img_data = data[0]\n",
    "#     print(img_num)\n",
    "    if 'happy' in img_num : \n",
    "        Label_OF_test_data.append(0)\n",
    "    elif 'sad' in  img_num: \n",
    "        Label_OF_test_data.append(1)\n",
    "    elif 'angry' in  img_num: \n",
    "        Label_OF_test_data.append(2)\n",
    "    elif 'normal' in  img_num: \n",
    "        Label_OF_test_data.append(3)\n",
    "        \n",
    "    \n",
    "#     y = fig.add_subplot(4, 5, num + 1)\n",
    "    orig = img_data\n",
    "    data = img_data.reshape(IMG_SIZE, IMG_SIZE, 1)\n",
    " \n",
    "    # model_out = model.predict([data])[0]\n",
    "#     print(data.shape)\n",
    "#     print(data.ndim)\n",
    "    \n",
    "#     dataRC=data.reshape(1,IMG_SIZE*IMG_SIZE)\n",
    "#     print(dataRC.shape)\n",
    "#     print(dataRC.ndim)\n",
    "#     if b:\n",
    "#         break\n",
    "    model_out = model.predict([data])[0]\n",
    "#     print(np.argmax(model_out))\n",
    "    if np.argmax(model_out) == 0:\n",
    "#         str_label ='Happy'\n",
    "        Predicted_label.append(0)\n",
    "    elif np.argmax(model_out) == 1:\n",
    "#         str_label ='sad'\n",
    "        Predicted_label.append(1)\n",
    "    elif np.argmax(model_out) == 2:\n",
    "#         str_label ='Angry'\n",
    "        Predicted_label.append(2)\n",
    "    elif np.argmax(model_out) == 3:\n",
    "#         str_label ='normal'\n",
    "        Predicted_label.append(3)\n",
    "    \n",
    "        \n",
    "\n",
    "score=metrics.accuracy_score(Label_OF_test_data, Predicted_label)\n",
    "print(Label_OF_test_data)\n",
    "print(Predicted_label)\n",
    "print('Accuracy cnn : {}'.format(score))"
   ]
  },
  {
   "cell_type": "code",
   "execution_count": null,
   "metadata": {},
   "outputs": [],
   "source": []
  }
 ],
 "metadata": {
  "kernelspec": {
   "display_name": "Python 3",
   "language": "python",
   "name": "python3"
  },
  "language_info": {
   "codemirror_mode": {
    "name": "ipython",
    "version": 3
   },
   "file_extension": ".py",
   "mimetype": "text/x-python",
   "name": "python",
   "nbconvert_exporter": "python",
   "pygments_lexer": "ipython3",
   "version": "3.6.4"
  }
 },
 "nbformat": 4,
 "nbformat_minor": 2
}

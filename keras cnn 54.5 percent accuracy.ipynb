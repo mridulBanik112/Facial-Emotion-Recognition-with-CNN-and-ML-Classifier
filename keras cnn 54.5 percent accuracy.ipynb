{
 "cells": [
  {
   "cell_type": "code",
   "execution_count": 1,
   "metadata": {},
   "outputs": [
    {
     "name": "stderr",
     "output_type": "stream",
     "text": [
      "C:\\Users\\DELL\\Anaconda3\\lib\\site-packages\\h5py\\__init__.py:36: FutureWarning: Conversion of the second argument of issubdtype from `float` to `np.floating` is deprecated. In future, it will be treated as `np.float64 == np.dtype(float).type`.\n",
      "  from ._conv import register_converters as _register_converters\n",
      "Using TensorFlow backend.\n"
     ]
    }
   ],
   "source": [
    "# importing essentials\n",
    "import numpy as np\n",
    "import pandas as pd\n",
    "\n",
    "# to make sure we use tensorflow as our backend, so the image format will be depth/channel last\n",
    "from keras import backend as K\n",
    "K.set_image_dim_ordering('tf')\n",
    "import matplotlib.pyplot as plt\n",
    "%matplotlib inline\n",
    "import cv2\n",
    "import os\n",
    "import numpy as np\n",
    "from random import shuffle\n",
    "from tqdm import tqdm"
   ]
  },
  {
   "cell_type": "code",
   "execution_count": 2,
   "metadata": {},
   "outputs": [],
   "source": [
    "TRAIN_DIR = 'E:/full stack python/Traine_DATA/Traine_DATA'\n",
    "# TRAIN_DIR = 'C:/Users/DELL/SkyDrive/Documents/data2/train_data'\n",
    "# TEST_DIR = 'J:/SONGS/LAP DOWNLOAD/GEETA/Compressed/Data of saudia/tes'\n",
    "TEST_DIR = 'E:/full stack python/Test_DATA/Test_DATA'\n",
    "# TEST_DIR = 'C:/Users/DELL/SkyDrive/Documents/data2/test_data'\n",
    "IMG_SIZE = 50"
   ]
  },
  {
   "cell_type": "code",
   "execution_count": 3,
   "metadata": {},
   "outputs": [],
   "source": [
    "def label_img(img):\n",
    "    word_label = img.split('.')#[-3]\n",
    "    s=word_label[0]\n",
    " # DIY One hot encoder\n",
    "    if 'appy' in s : \n",
    "        return [1, 0, 0, 0]\n",
    "    elif 'sad' in  s: \n",
    "        return [0, 1, 0, 0]\n",
    "    elif 'ngry' in  s: \n",
    "        return [0, 0, 1, 0] \n",
    "    elif (('ormal' in  s ) or ('eutral' in  s)): \n",
    "        return [0, 0, 0, 1] "
   ]
  },
  {
   "cell_type": "code",
   "execution_count": 4,
   "metadata": {},
   "outputs": [
    {
     "name": "stderr",
     "output_type": "stream",
     "text": [
      "100%|█████████████████████████████████████| 1228/1228 [00:11<00:00, 108.01it/s]\n"
     ]
    }
   ],
   "source": [
    "training_data = []\n",
    " \n",
    "    # tqdm is only used for interactive loading\n",
    "    # loading the training data\n",
    "for img in tqdm(os.listdir(TRAIN_DIR)):\n",
    "\n",
    "    # labeling the images\n",
    "    label = label_img(img)\n",
    "\n",
    "    path = os.path.join(TRAIN_DIR, img)\n",
    "\n",
    "    # loading the image from the path and then converting them into\n",
    "    # greyscale for easier covnet prob\n",
    "    img = cv2.imread(path, cv2.IMREAD_GRAYSCALE)\n",
    "\n",
    "    # resizing the image for processing them in the covnet\n",
    "    img = cv2.resize(img, (IMG_SIZE, IMG_SIZE))\n",
    "\n",
    "    # final step-forming the training data list with numpy array of the images\n",
    "    training_data.append([np.array(img), np.array(label)])\n",
    "\n",
    "# shuffling of the training data to preserve the random state of our data\n",
    "shuffle(training_data)"
   ]
  },
  {
   "cell_type": "code",
   "execution_count": 5,
   "metadata": {},
   "outputs": [],
   "source": [
    "split_value=int(len(training_data) * .3) # 30 /70 split \n",
    "train = training_data[:-split_value]\n",
    "test = training_data[-split_value:]\n"
   ]
  },
  {
   "cell_type": "code",
   "execution_count": 6,
   "metadata": {},
   "outputs": [],
   "source": [
    "train_features = np.array([i[0] for i in train]).reshape(-1, IMG_SIZE, IMG_SIZE, 1)\n",
    "train_labels = np.array([i[1] for i in train])\n",
    "val_features = np.array([i[0] for i in test]).reshape(-1, IMG_SIZE, IMG_SIZE, 1)\n",
    "val_labels = np.array([i[1] for i in test])"
   ]
  },
  {
   "cell_type": "code",
   "execution_count": 7,
   "metadata": {},
   "outputs": [
    {
     "name": "stdout",
     "output_type": "stream",
     "text": [
      "x:  (860, 50, 50, 1)\n",
      "Y:  (860, 4)\n",
      "test_x shape:  (368, 50, 50, 1)\n",
      "test_y shape:  (368, 4)\n"
     ]
    }
   ],
   "source": [
    "print('x: ', train_features.shape)\n",
    "print('Y: ', train_labels.shape)\n",
    "print('test_x shape: ', val_features.shape)\n",
    "print('test_y shape: ', val_labels.shape)"
   ]
  },
  {
   "cell_type": "code",
   "execution_count": 8,
   "metadata": {},
   "outputs": [],
   "source": [
    "from keras.layers import Conv2D, MaxPooling2D, Dense, Flatten, Input, Dropout\n",
    "from keras.models import Model, load_model\n",
    "from keras.models import Sequential\n",
    "from keras.layers import Dense, Conv2D, MaxPooling2D, Dropout, Flatten\n",
    "def get_model(input_shape):\n",
    "    \n",
    "    drop = 0.3\n",
    "    \n",
    "    X_input = Input(input_shape)\n",
    "    \n",
    "    X = Conv2D(64, (5,5), strides=(1,1), activation='relu', \n",
    "               kernel_initializer='glorot_normal')(X_input)\n",
    "    X = MaxPooling2D((2,2))(X)\n",
    "    \n",
    "    X = Conv2D(128, (5,5), strides=(1,1), activation='relu',\n",
    "              kernel_initializer='glorot_normal')(X)\n",
    "    \n",
    "    X = MaxPooling2D((2,2))(X)\n",
    "    \n",
    "    X = Flatten()(X)\n",
    "    \n",
    "    X = Dense(256, activation='relu')(X)\n",
    "    X = Dropout(drop)(X)\n",
    "    \n",
    "    X = Dense(32, activation='relu')(X)\n",
    "    X = Dropout(drop)(X)\n",
    "    \n",
    "    X = Dense(4, activation='softmax')(X)\n",
    "    \n",
    "    model = Model(inputs=[X_input], outputs=[X])\n",
    "    \n",
    "    \n",
    "    # another model\n",
    "#     model.add(Conv2D(32, (3, 3), padding='same', activation='relu', input_shape=input_shape))\n",
    "#     model.add(Conv2D(32, (3, 3), activation='relu'))\n",
    "#     model.add(MaxPooling2D(pool_size=(2, 2)))\n",
    "#     model.add(Dropout(0.25))\n",
    " \n",
    "#     model.add(Conv2D(64, (3, 3), padding='same', activation='relu'))\n",
    "#     model.add(Conv2D(64, (3, 3), activation='relu'))\n",
    "#     model.add(MaxPooling2D(pool_size=(2, 2)))\n",
    "#     model.add(Dropout(0.25))\n",
    " \n",
    "#     model.add(Conv2D(64, (3, 3), padding='same', activation='relu'))\n",
    "#     model.add(Conv2D(64, (3, 3), activation='relu'))\n",
    "#     model.add(MaxPooling2D(pool_size=(2, 2)))\n",
    "#     model.add(Dropout(0.25))\n",
    " \n",
    "#     model.add(Flatten())\n",
    "#     model.add(Dense(512, activation='relu'))\n",
    "#     model.add(Dropout(0.5))\n",
    "#     model.add(Dense(4, activation='softmax'))\n",
    "    \n",
    "    \n",
    "    return model"
   ]
  },
  {
   "cell_type": "code",
   "execution_count": 9,
   "metadata": {},
   "outputs": [],
   "source": [
    "from keras.optimizers import Nadam\n",
    "opt = Nadam(lr=0.001)"
   ]
  },
  {
   "cell_type": "code",
   "execution_count": 10,
   "metadata": {},
   "outputs": [],
   "source": [
    "model = get_model((50, 50, 1))\n",
    "# compile the model\n",
    "# model = get_model((train_features))\n",
    "model.compile(optimizer=opt,\n",
    "              loss='categorical_crossentropy',\n",
    "              metrics=['accuracy'])"
   ]
  },
  {
   "cell_type": "code",
   "execution_count": 11,
   "metadata": {},
   "outputs": [],
   "source": [
    "from keras.callbacks import ModelCheckpoint\n",
    "# only save the best model\n",
    "f_path = 'modelf.h5'\n",
    "msave = ModelCheckpoint(f_path, save_best_only=True)"
   ]
  },
  {
   "cell_type": "code",
   "execution_count": 12,
   "metadata": {},
   "outputs": [
    {
     "name": "stdout",
     "output_type": "stream",
     "text": [
      "Train on 860 samples, validate on 368 samples\n",
      "Epoch 1/25\n",
      "860/860 [==============================] - ETA: 24s - loss: 5.9643 - acc: 0.29 - ETA: 21s - loss: 7.5712 - acc: 0.32 - ETA: 18s - loss: 8.4828 - acc: 0.30 - ETA: 16s - loss: 9.3535 - acc: 0.28 - ETA: 14s - loss: 9.8934 - acc: 0.27 - ETA: 12s - loss: 9.8985 - acc: 0.29 - ETA: 10s - loss: 10.1947 - acc: 0.287 - ETA: 9s - loss: 10.4945 - acc: 0.279 - ETA: 7s - loss: 10.4507 - acc: 0.28 - ETA: 5s - loss: 10.4156 - acc: 0.29 - ETA: 4s - loss: 10.3868 - acc: 0.30 - ETA: 2s - loss: 10.3740 - acc: 0.30 - ETA: 0s - loss: 10.3154 - acc: 0.30 - 26s 30ms/step - loss: 10.3881 - acc: 0.3035 - val_loss: 10.9309 - val_acc: 0.3207\n",
      "Epoch 2/25\n",
      "860/860 [==============================] - ETA: 20s - loss: 10.0987 - acc: 0.343 - ETA: 18s - loss: 10.1558 - acc: 0.328 - ETA: 17s - loss: 9.7364 - acc: 0.333 - ETA: 15s - loss: 8.9643 - acc: 0.30 - ETA: 13s - loss: 7.6528 - acc: 0.27 - ETA: 12s - loss: 6.7611 - acc: 0.27 - ETA: 10s - loss: 5.9838 - acc: 0.30 - ETA: 8s - loss: 5.4433 - acc: 0.2969 - ETA: 7s - loss: 4.9931 - acc: 0.283 - ETA: 5s - loss: 4.6275 - acc: 0.289 - ETA: 3s - loss: 4.3314 - acc: 0.292 - ETA: 2s - loss: 4.0892 - acc: 0.290 - ETA: 0s - loss: 3.8799 - acc: 0.294 - 25s 29ms/step - loss: 3.7975 - acc: 0.2988 - val_loss: 1.3504 - val_acc: 0.2880\n",
      "Epoch 3/25\n",
      "860/860 [==============================] - ETA: 20s - loss: 1.3343 - acc: 0.35 - ETA: 19s - loss: 1.4257 - acc: 0.34 - ETA: 17s - loss: 1.4038 - acc: 0.33 - ETA: 15s - loss: 1.3975 - acc: 0.31 - ETA: 13s - loss: 1.4047 - acc: 0.31 - ETA: 12s - loss: 1.3961 - acc: 0.31 - ETA: 10s - loss: 1.3884 - acc: 0.30 - ETA: 9s - loss: 1.3838 - acc: 0.3125 - ETA: 7s - loss: 1.3770 - acc: 0.316 - ETA: 5s - loss: 1.3750 - acc: 0.309 - ETA: 4s - loss: 1.3713 - acc: 0.311 - ETA: 2s - loss: 1.3594 - acc: 0.316 - ETA: 0s - loss: 1.3624 - acc: 0.322 - 27s 32ms/step - loss: 1.3616 - acc: 0.3233 - val_loss: 1.3309 - val_acc: 0.3668\n",
      "Epoch 4/25\n",
      "860/860 [==============================] - ETA: 21s - loss: 1.3396 - acc: 0.31 - ETA: 19s - loss: 1.2981 - acc: 0.42 - ETA: 17s - loss: 1.2897 - acc: 0.40 - ETA: 15s - loss: 1.2819 - acc: 0.40 - ETA: 13s - loss: 1.2728 - acc: 0.41 - ETA: 12s - loss: 1.2729 - acc: 0.40 - ETA: 10s - loss: 1.2816 - acc: 0.40 - ETA: 8s - loss: 1.3031 - acc: 0.3965 - ETA: 7s - loss: 1.3067 - acc: 0.392 - ETA: 5s - loss: 1.3004 - acc: 0.393 - ETA: 3s - loss: 1.2961 - acc: 0.400 - ETA: 2s - loss: 1.3137 - acc: 0.395 - ETA: 0s - loss: 1.3164 - acc: 0.387 - 25s 29ms/step - loss: 1.3149 - acc: 0.3895 - val_loss: 1.3403 - val_acc: 0.3587\n",
      "Epoch 5/25\n",
      "860/860 [==============================] - ETA: 19s - loss: 1.6395 - acc: 0.28 - ETA: 17s - loss: 1.4678 - acc: 0.34 - ETA: 16s - loss: 1.3739 - acc: 0.36 - ETA: 14s - loss: 1.3548 - acc: 0.37 - ETA: 13s - loss: 1.3374 - acc: 0.37 - ETA: 11s - loss: 1.3260 - acc: 0.38 - ETA: 10s - loss: 1.2993 - acc: 0.39 - ETA: 8s - loss: 1.2794 - acc: 0.4102 - ETA: 7s - loss: 1.2663 - acc: 0.420 - ETA: 5s - loss: 1.2630 - acc: 0.418 - ETA: 3s - loss: 1.2548 - acc: 0.429 - ETA: 2s - loss: 1.2459 - acc: 0.431 - ETA: 0s - loss: 1.2461 - acc: 0.437 - 25s 29ms/step - loss: 1.2541 - acc: 0.4291 - val_loss: 1.2667 - val_acc: 0.4429\n",
      "Epoch 6/25\n",
      "860/860 [==============================] - ETA: 19s - loss: 1.1703 - acc: 0.56 - ETA: 18s - loss: 1.1615 - acc: 0.55 - ETA: 16s - loss: 1.1542 - acc: 0.52 - ETA: 14s - loss: 1.1762 - acc: 0.51 - ETA: 13s - loss: 1.1726 - acc: 0.50 - ETA: 11s - loss: 1.1597 - acc: 0.49 - ETA: 10s - loss: 1.1588 - acc: 0.49 - ETA: 8s - loss: 1.1483 - acc: 0.4883 - ETA: 7s - loss: 1.1434 - acc: 0.494 - ETA: 5s - loss: 1.1385 - acc: 0.495 - ETA: 3s - loss: 1.1352 - acc: 0.494 - ETA: 2s - loss: 1.1328 - acc: 0.497 - ETA: 0s - loss: 1.1324 - acc: 0.490 - 26s 30ms/step - loss: 1.1268 - acc: 0.4919 - val_loss: 1.1309 - val_acc: 0.5408\n",
      "Epoch 7/25\n",
      "860/860 [==============================] - ETA: 23s - loss: 1.0191 - acc: 0.53 - ETA: 20s - loss: 0.9952 - acc: 0.54 - ETA: 18s - loss: 1.0200 - acc: 0.53 - ETA: 16s - loss: 1.0368 - acc: 0.53 - ETA: 14s - loss: 1.0389 - acc: 0.55 - ETA: 12s - loss: 1.0250 - acc: 0.56 - ETA: 11s - loss: 1.0118 - acc: 0.56 - ETA: 9s - loss: 1.0072 - acc: 0.5605 - ETA: 7s - loss: 1.0192 - acc: 0.546 - ETA: 5s - loss: 1.1654 - acc: 0.523 - ETA: 4s - loss: 1.1661 - acc: 0.521 - ETA: 2s - loss: 1.1590 - acc: 0.528 - ETA: 0s - loss: 1.1612 - acc: 0.531 - 26s 30ms/step - loss: 1.1590 - acc: 0.5302 - val_loss: 1.1748 - val_acc: 0.5082\n",
      "Epoch 8/25\n",
      "860/860 [==============================] - ETA: 19s - loss: 1.1336 - acc: 0.54 - ETA: 19s - loss: 1.0680 - acc: 0.57 - ETA: 17s - loss: 1.0869 - acc: 0.54 - ETA: 15s - loss: 1.0441 - acc: 0.56 - ETA: 14s - loss: 1.0599 - acc: 0.55 - ETA: 12s - loss: 1.0283 - acc: 0.57 - ETA: 10s - loss: 1.0393 - acc: 0.56 - ETA: 9s - loss: 1.0341 - acc: 0.5684 - ETA: 7s - loss: 1.0231 - acc: 0.572 - ETA: 5s - loss: 1.0230 - acc: 0.571 - ETA: 4s - loss: 1.0096 - acc: 0.578 - ETA: 2s - loss: 0.9959 - acc: 0.582 - ETA: 0s - loss: 0.9845 - acc: 0.586 - 25s 29ms/step - loss: 0.9740 - acc: 0.5919 - val_loss: 1.4344 - val_acc: 0.5272\n",
      "Epoch 9/25\n",
      "860/860 [==============================] - ETA: 20s - loss: 1.2898 - acc: 0.54 - ETA: 18s - loss: 1.1370 - acc: 0.57 - ETA: 16s - loss: 1.0936 - acc: 0.56 - ETA: 15s - loss: 1.0180 - acc: 0.60 - ETA: 13s - loss: 0.9752 - acc: 0.60 - ETA: 11s - loss: 0.9514 - acc: 0.60 - ETA: 10s - loss: 0.9370 - acc: 0.60 - ETA: 8s - loss: 0.9485 - acc: 0.6016 - ETA: 7s - loss: 0.9420 - acc: 0.605 - ETA: 5s - loss: 0.9318 - acc: 0.612 - ETA: 3s - loss: 0.9256 - acc: 0.615 - ETA: 2s - loss: 0.9197 - acc: 0.618 - ETA: 0s - loss: 0.9260 - acc: 0.614 - 25s 29ms/step - loss: 0.9263 - acc: 0.6116 - val_loss: 1.1997 - val_acc: 0.5109\n",
      "Epoch 10/25\n",
      "860/860 [==============================] - ETA: 20s - loss: 0.9535 - acc: 0.64 - ETA: 18s - loss: 0.9591 - acc: 0.61 - ETA: 16s - loss: 0.9443 - acc: 0.61 - ETA: 15s - loss: 0.9209 - acc: 0.63 - ETA: 13s - loss: 0.9201 - acc: 0.64 - ETA: 12s - loss: 0.8961 - acc: 0.65 - ETA: 10s - loss: 0.8778 - acc: 0.66 - ETA: 8s - loss: 0.8788 - acc: 0.6660 - ETA: 7s - loss: 0.8650 - acc: 0.666 - ETA: 5s - loss: 0.8554 - acc: 0.664 - ETA: 4s - loss: 0.8600 - acc: 0.661 - ETA: 2s - loss: 0.8603 - acc: 0.658 - ETA: 0s - loss: 0.8593 - acc: 0.659 - 25s 30ms/step - loss: 0.8533 - acc: 0.6628 - val_loss: 1.2275 - val_acc: 0.5571\n",
      "Epoch 11/25\n",
      "860/860 [==============================] - ETA: 21s - loss: 0.6754 - acc: 0.76 - ETA: 18s - loss: 0.7429 - acc: 0.69 - ETA: 17s - loss: 0.7624 - acc: 0.67 - ETA: 15s - loss: 0.7549 - acc: 0.67 - ETA: 13s - loss: 0.7337 - acc: 0.69 - ETA: 12s - loss: 0.7385 - acc: 0.67 - ETA: 11s - loss: 0.7421 - acc: 0.68 - ETA: 9s - loss: 0.7315 - acc: 0.6875 - ETA: 7s - loss: 0.7240 - acc: 0.689 - ETA: 5s - loss: 0.7166 - acc: 0.695 - ETA: 4s - loss: 0.7183 - acc: 0.697 - ETA: 2s - loss: 0.7283 - acc: 0.700 - ETA: 0s - loss: 0.7300 - acc: 0.698 - 26s 30ms/step - loss: 0.7321 - acc: 0.6977 - val_loss: 1.2594 - val_acc: 0.5380\n",
      "Epoch 12/25\n",
      "860/860 [==============================] - ETA: 21s - loss: 0.6764 - acc: 0.67 - ETA: 19s - loss: 0.6772 - acc: 0.69 - ETA: 17s - loss: 0.7634 - acc: 0.71 - ETA: 15s - loss: 0.7546 - acc: 0.71 - ETA: 14s - loss: 0.7097 - acc: 0.72 - ETA: 13s - loss: 0.7091 - acc: 0.72 - ETA: 11s - loss: 0.6993 - acc: 0.72 - ETA: 9s - loss: 0.6976 - acc: 0.7266 - ETA: 7s - loss: 0.6871 - acc: 0.727 - ETA: 6s - loss: 0.6987 - acc: 0.720 - ETA: 4s - loss: 0.6865 - acc: 0.724 - ETA: 2s - loss: 0.6719 - acc: 0.731 - ETA: 0s - loss: 0.6649 - acc: 0.736 - 28s 33ms/step - loss: 0.6618 - acc: 0.7384 - val_loss: 1.2533 - val_acc: 0.5761\n",
      "Epoch 13/25\n",
      "860/860 [==============================] - ETA: 22s - loss: 0.6355 - acc: 0.76 - ETA: 20s - loss: 0.5406 - acc: 0.76 - ETA: 19s - loss: 0.5495 - acc: 0.77 - ETA: 17s - loss: 0.5106 - acc: 0.79 - ETA: 15s - loss: 0.5075 - acc: 0.79 - ETA: 13s - loss: 0.5125 - acc: 0.77 - ETA: 12s - loss: 0.5397 - acc: 0.77 - ETA: 10s - loss: 0.5546 - acc: 0.75 - ETA: 8s - loss: 0.5649 - acc: 0.7535 - ETA: 6s - loss: 0.5818 - acc: 0.754 - ETA: 4s - loss: 0.6028 - acc: 0.748 - ETA: 2s - loss: 0.6007 - acc: 0.748 - ETA: 0s - loss: 0.5914 - acc: 0.753 - 27s 32ms/step - loss: 0.5956 - acc: 0.7535 - val_loss: 1.2720 - val_acc: 0.5408\n"
     ]
    },
    {
     "name": "stdout",
     "output_type": "stream",
     "text": [
      "Epoch 14/25\n",
      "860/860 [==============================] - ETA: 24s - loss: 0.6087 - acc: 0.75 - ETA: 22s - loss: 0.5208 - acc: 0.79 - ETA: 19s - loss: 0.5256 - acc: 0.81 - ETA: 17s - loss: 0.5083 - acc: 0.81 - ETA: 15s - loss: 0.5075 - acc: 0.83 - ETA: 13s - loss: 0.4932 - acc: 0.84 - ETA: 11s - loss: 0.4886 - acc: 0.84 - ETA: 9s - loss: 0.4858 - acc: 0.8359 - ETA: 7s - loss: 0.4709 - acc: 0.835 - ETA: 5s - loss: 0.4649 - acc: 0.834 - ETA: 4s - loss: 0.4616 - acc: 0.833 - ETA: 2s - loss: 0.4647 - acc: 0.826 - ETA: 0s - loss: 0.4751 - acc: 0.823 - 26s 30ms/step - loss: 0.4745 - acc: 0.8233 - val_loss: 1.2357 - val_acc: 0.6005\n",
      "Epoch 15/25\n",
      "860/860 [==============================] - ETA: 20s - loss: 0.3456 - acc: 0.85 - ETA: 18s - loss: 0.3818 - acc: 0.84 - ETA: 17s - loss: 0.3786 - acc: 0.84 - ETA: 15s - loss: 0.4138 - acc: 0.85 - ETA: 13s - loss: 0.4316 - acc: 0.84 - ETA: 12s - loss: 0.4196 - acc: 0.84 - ETA: 10s - loss: 0.4266 - acc: 0.84 - ETA: 8s - loss: 0.4108 - acc: 0.8516 - ETA: 7s - loss: 0.4085 - acc: 0.849 - ETA: 5s - loss: 0.4151 - acc: 0.843 - ETA: 4s - loss: 0.4122 - acc: 0.845 - ETA: 2s - loss: 0.4223 - acc: 0.839 - ETA: 0s - loss: 0.4349 - acc: 0.832 - 25s 30ms/step - loss: 0.4335 - acc: 0.8349 - val_loss: 1.3191 - val_acc: 0.6114\n",
      "Epoch 16/25\n",
      "860/860 [==============================] - ETA: 20s - loss: 0.3344 - acc: 0.87 - ETA: 19s - loss: 0.4938 - acc: 0.85 - ETA: 17s - loss: 0.5210 - acc: 0.83 - ETA: 15s - loss: 0.5190 - acc: 0.82 - ETA: 14s - loss: 0.5079 - acc: 0.82 - ETA: 13s - loss: 0.5027 - acc: 0.83 - ETA: 11s - loss: 0.4775 - acc: 0.83 - ETA: 9s - loss: 0.4572 - acc: 0.8457 - ETA: 7s - loss: 0.4502 - acc: 0.845 - ETA: 5s - loss: 0.4299 - acc: 0.851 - ETA: 4s - loss: 0.4186 - acc: 0.853 - ETA: 2s - loss: 0.4129 - acc: 0.854 - ETA: 0s - loss: 0.4211 - acc: 0.858 - 26s 30ms/step - loss: 0.4261 - acc: 0.8547 - val_loss: 1.5501 - val_acc: 0.6005\n",
      "Epoch 17/25\n",
      "860/860 [==============================] - ETA: 19s - loss: 0.3243 - acc: 0.85 - ETA: 18s - loss: 0.3786 - acc: 0.85 - ETA: 17s - loss: 0.3623 - acc: 0.86 - ETA: 16s - loss: 0.3559 - acc: 0.87 - ETA: 14s - loss: 0.3500 - acc: 0.86 - ETA: 12s - loss: 0.3496 - acc: 0.86 - ETA: 10s - loss: 0.3682 - acc: 0.86 - ETA: 9s - loss: 0.3746 - acc: 0.8633 - ETA: 7s - loss: 0.3662 - acc: 0.868 - ETA: 5s - loss: 0.3788 - acc: 0.862 - ETA: 4s - loss: 0.3784 - acc: 0.863 - ETA: 2s - loss: 0.3848 - acc: 0.863 - ETA: 0s - loss: 0.3931 - acc: 0.858 - 25s 30ms/step - loss: 0.3922 - acc: 0.8593 - val_loss: 1.3270 - val_acc: 0.5842\n",
      "Epoch 18/25\n",
      "860/860 [==============================] - ETA: 19s - loss: 0.3309 - acc: 0.85 - ETA: 18s - loss: 0.2770 - acc: 0.89 - ETA: 16s - loss: 0.2664 - acc: 0.90 - ETA: 15s - loss: 0.2571 - acc: 0.91 - ETA: 13s - loss: 0.2964 - acc: 0.90 - ETA: 12s - loss: 0.2851 - acc: 0.90 - ETA: 10s - loss: 0.2759 - acc: 0.90 - ETA: 8s - loss: 0.2761 - acc: 0.9023 - ETA: 7s - loss: 0.2805 - acc: 0.899 - ETA: 5s - loss: 0.2784 - acc: 0.903 - ETA: 3s - loss: 0.2702 - acc: 0.904 - ETA: 2s - loss: 0.2761 - acc: 0.898 - ETA: 0s - loss: 0.2687 - acc: 0.899 - 25s 29ms/step - loss: 0.2745 - acc: 0.8988 - val_loss: 1.5386 - val_acc: 0.6168\n",
      "Epoch 19/25\n",
      "860/860 [==============================] - ETA: 19s - loss: 0.1794 - acc: 0.93 - ETA: 18s - loss: 0.2450 - acc: 0.91 - ETA: 16s - loss: 0.2519 - acc: 0.92 - ETA: 14s - loss: 0.2820 - acc: 0.91 - ETA: 13s - loss: 0.2659 - acc: 0.92 - ETA: 11s - loss: 0.2591 - acc: 0.91 - ETA: 10s - loss: 0.2569 - acc: 0.91 - ETA: 8s - loss: 0.2792 - acc: 0.9082 - ETA: 6s - loss: 0.2912 - acc: 0.899 - ETA: 5s - loss: 0.3073 - acc: 0.890 - ETA: 3s - loss: 0.3050 - acc: 0.890 - ETA: 2s - loss: 0.3269 - acc: 0.885 - ETA: 0s - loss: 0.3176 - acc: 0.888 - 25s 28ms/step - loss: 0.3174 - acc: 0.8872 - val_loss: 1.5933 - val_acc: 0.6332\n",
      "Epoch 20/25\n",
      "860/860 [==============================] - ETA: 19s - loss: 0.1248 - acc: 0.93 - ETA: 18s - loss: 0.1936 - acc: 0.89 - ETA: 17s - loss: 0.1965 - acc: 0.91 - ETA: 15s - loss: 0.2026 - acc: 0.91 - ETA: 14s - loss: 0.2330 - acc: 0.90 - ETA: 12s - loss: 0.2357 - acc: 0.90 - ETA: 10s - loss: 0.2408 - acc: 0.90 - ETA: 9s - loss: 0.2445 - acc: 0.9043 - ETA: 7s - loss: 0.2693 - acc: 0.899 - ETA: 5s - loss: 0.2569 - acc: 0.906 - ETA: 4s - loss: 0.2515 - acc: 0.906 - ETA: 2s - loss: 0.2556 - acc: 0.906 - ETA: 0s - loss: 0.2558 - acc: 0.908 - 25s 30ms/step - loss: 0.2602 - acc: 0.9070 - val_loss: 1.5843 - val_acc: 0.6413\n",
      "Epoch 21/25\n",
      "860/860 [==============================] - ETA: 19s - loss: 0.2062 - acc: 0.92 - ETA: 18s - loss: 0.1634 - acc: 0.93 - ETA: 16s - loss: 0.1644 - acc: 0.93 - ETA: 15s - loss: 0.1632 - acc: 0.93 - ETA: 13s - loss: 0.1529 - acc: 0.94 - ETA: 11s - loss: 0.1467 - acc: 0.94 - ETA: 10s - loss: 0.1510 - acc: 0.94 - ETA: 8s - loss: 0.1479 - acc: 0.9473 - ETA: 7s - loss: 0.1571 - acc: 0.944 - ETA: 5s - loss: 0.1815 - acc: 0.932 - ETA: 3s - loss: 0.1785 - acc: 0.933 - ETA: 2s - loss: 0.1842 - acc: 0.931 - ETA: 0s - loss: 0.1917 - acc: 0.930 - 25s 29ms/step - loss: 0.1964 - acc: 0.9267 - val_loss: 1.6516 - val_acc: 0.6413\n",
      "Epoch 22/25\n",
      "860/860 [==============================] - ETA: 19s - loss: 0.2264 - acc: 0.95 - ETA: 18s - loss: 0.1759 - acc: 0.96 - ETA: 17s - loss: 0.2183 - acc: 0.94 - ETA: 15s - loss: 0.2432 - acc: 0.92 - ETA: 14s - loss: 0.2281 - acc: 0.93 - ETA: 12s - loss: 0.2108 - acc: 0.94 - ETA: 10s - loss: 0.2064 - acc: 0.93 - ETA: 9s - loss: 0.1982 - acc: 0.9375 - ETA: 7s - loss: 0.2020 - acc: 0.937 - ETA: 5s - loss: 0.1968 - acc: 0.940 - ETA: 4s - loss: 0.1944 - acc: 0.940 - ETA: 2s - loss: 0.1976 - acc: 0.938 - ETA: 0s - loss: 0.1964 - acc: 0.937 - 25s 29ms/step - loss: 0.2017 - acc: 0.9349 - val_loss: 2.0471 - val_acc: 0.6168\n",
      "Epoch 23/25\n",
      "860/860 [==============================] - ETA: 19s - loss: 0.2181 - acc: 0.90 - ETA: 18s - loss: 0.2499 - acc: 0.89 - ETA: 16s - loss: 0.2659 - acc: 0.89 - ETA: 15s - loss: 0.2607 - acc: 0.89 - ETA: 13s - loss: 0.2645 - acc: 0.90 - ETA: 11s - loss: 0.2521 - acc: 0.90 - ETA: 10s - loss: 0.2339 - acc: 0.91 - ETA: 8s - loss: 0.2280 - acc: 0.9141 - ETA: 7s - loss: 0.2197 - acc: 0.918 - ETA: 5s - loss: 0.2071 - acc: 0.923 - ETA: 4s - loss: 0.2054 - acc: 0.927 - ETA: 2s - loss: 0.2053 - acc: 0.927 - ETA: 0s - loss: 0.1973 - acc: 0.930 - 25s 29ms/step - loss: 0.1948 - acc: 0.9314 - val_loss: 1.7132 - val_acc: 0.6168\n",
      "Epoch 24/25\n",
      "860/860 [==============================] - ETA: 20s - loss: 0.1341 - acc: 0.93 - ETA: 18s - loss: 0.0963 - acc: 0.96 - ETA: 16s - loss: 0.1014 - acc: 0.96 - ETA: 15s - loss: 0.0947 - acc: 0.96 - ETA: 13s - loss: 0.0935 - acc: 0.96 - ETA: 11s - loss: 0.1010 - acc: 0.96 - ETA: 10s - loss: 0.1136 - acc: 0.95 - ETA: 8s - loss: 0.1279 - acc: 0.9473 - ETA: 7s - loss: 0.1278 - acc: 0.951 - ETA: 5s - loss: 0.1350 - acc: 0.945 - ETA: 4s - loss: 0.1352 - acc: 0.944 - ETA: 2s - loss: 0.1437 - acc: 0.940 - ETA: 0s - loss: 0.1581 - acc: 0.937 - 25s 30ms/step - loss: 0.1622 - acc: 0.9372 - val_loss: 1.9241 - val_acc: 0.6005\n",
      "Epoch 25/25\n",
      "860/860 [==============================] - ETA: 20s - loss: 0.2907 - acc: 0.92 - ETA: 19s - loss: 0.3252 - acc: 0.89 - ETA: 17s - loss: 0.4387 - acc: 0.87 - ETA: 15s - loss: 0.4124 - acc: 0.87 - ETA: 13s - loss: 0.3931 - acc: 0.88 - ETA: 12s - loss: 0.4205 - acc: 0.87 - ETA: 10s - loss: 0.3899 - acc: 0.87 - ETA: 8s - loss: 0.3695 - acc: 0.8848 - ETA: 7s - loss: 0.3515 - acc: 0.885 - ETA: 5s - loss: 0.3423 - acc: 0.887 - ETA: 3s - loss: 0.3356 - acc: 0.887 - ETA: 2s - loss: 0.3215 - acc: 0.890 - ETA: 0s - loss: 0.3151 - acc: 0.893 - 25s 29ms/step - loss: 0.3174 - acc: 0.8919 - val_loss: 1.8091 - val_acc: 0.5815\n"
     ]
    }
   ],
   "source": [
    "epochs = 25\n",
    "batch_size = 64\n",
    "training = model.fit(train_features, train_labels,\n",
    "                     validation_data=(val_features, val_labels),\n",
    "                     epochs=epochs,\n",
    "                     callbacks=[msave],\n",
    "                     batch_size=batch_size, \n",
    "                     verbose=1)"
   ]
  },
  {
   "cell_type": "code",
   "execution_count": 13,
   "metadata": {},
   "outputs": [
    {
     "data": {
      "image/png": "[encoded data removed]",
      "text/plain": [
       "<matplotlib.figure.Figure at 0x992372ba20>"
      ]
     },
     "metadata": {},
     "output_type": "display_data"
    },
    {
     "data": {
      "image/png": "[encoded data removed]",
      "text/plain": [
       "<matplotlib.figure.Figure at 0x992266a9e8>"
      ]
     },
     "metadata": {},
     "output_type": "display_data"
    }
   ],
   "source": [
    "loss = training.history['loss']\n",
    "val_loss = training.history['val_loss']\n",
    "acc = training.history['acc']\n",
    "val_acc = training.history['val_acc']\n",
    "\n",
    "# loss plot\n",
    "tra = plt.plot(loss)\n",
    "val = plt.plot(val_loss, 'r')\n",
    "plt.xlabel('Epochs')\n",
    "plt.ylabel('Loss')\n",
    "plt.title('Loss')\n",
    "plt.legend([\"Training\", \"Validation\"])\n",
    "\n",
    "plt.show()\n",
    "\n",
    "# accuracy plot\n",
    "plt.plot(acc)\n",
    "plt.plot(val_acc, 'r')\n",
    "plt.xlabel('Epochs')\n",
    "plt.ylabel('Loss')\n",
    "plt.title('Accuracy')\n",
    "plt.legend(['Training', 'Validation'], loc=4)\n",
    "plt.show()"
   ]
  },
  {
   "cell_type": "code",
   "execution_count": 16,
   "metadata": {},
   "outputs": [
    {
     "name": "stderr",
     "output_type": "stream",
     "text": [
      "100%|███████████████████████████████████████| 299/299 [00:02<00:00, 114.00it/s]\n"
     ]
    }
   ],
   "source": [
    "testing_data = []\n",
    "for img in tqdm(os.listdir(TEST_DIR)):\n",
    "#     path = os.path.join(TEST_DIR, img)\n",
    "#     img_num = img.split('.')[0]\n",
    "#     img = cv2.imread(path, cv2.IMREAD_GRAYSCALE)\n",
    "#     img = cv2.resize(img, (IMG_SIZE, IMG_SIZE))\n",
    "#     testing_data.append([np.array(img), img_num])\n",
    "    \n",
    "    \n",
    "    \n",
    "    label = label_img(img)\n",
    "\n",
    "    path = os.path.join(TEST_DIR, img)\n",
    "\n",
    "    # loading the image from the path and then converting them into\n",
    "    # greyscale for easier covnet prob\n",
    "    img = cv2.imread(path, cv2.IMREAD_GRAYSCALE)\n",
    "\n",
    "    # resizing the image for processing them in the covnet\n",
    "    img = cv2.resize(img, (IMG_SIZE, IMG_SIZE))\n",
    "\n",
    "    # final step-forming the training data list with numpy array of the images\n",
    "    testing_data.append([np.array(img), np.array(label)])\n",
    "\n",
    "         \n",
    "shuffle(testing_data)"
   ]
  },
  {
   "cell_type": "code",
   "execution_count": 17,
   "metadata": {},
   "outputs": [
    {
     "name": "stdout",
     "output_type": "stream",
     "text": [
      "x:  (299, 50, 50, 1)\n",
      "Y:  (299, 4)\n"
     ]
    }
   ],
   "source": [
    "test_features = np.array([i[0] for i in testing_data]).reshape(-1, IMG_SIZE, IMG_SIZE, 1)\n",
    "test_labels = np.array([i[1] for i in testing_data])\n",
    "# test_labels = np.argmax(test_labels, axis=1)\n",
    "print('x: ', test_features.shape)\n",
    "print('Y: ', test_labels.shape)"
   ]
  },
  {
   "cell_type": "code",
   "execution_count": 18,
   "metadata": {},
   "outputs": [
    {
     "name": "stdout",
     "output_type": "stream",
     "text": [
      "pred\n",
      "[1, 2, 2, 2, 1, 1, 1, 0, 1, 0, 0, 3, 1, 0, 0, 3, 1, 0, 3, 2, 2, 1, 3, 0, 3, 0, 1, 1, 0, 1, 0, 1, 2, 1, 2, 2, 3, 0, 2, 2, 1, 0, 2, 1, 2, 0, 2, 0, 3, 1, 0, 3, 0, 3, 0, 3, 3, 2, 2, 1, 1, 3, 0, 1, 1, 0, 1, 2, 0, 2, 0, 2, 3, 2, 0, 0, 2, 3, 1, 1, 2, 2, 1, 0, 0, 0, 2, 3, 3, 0, 3, 0, 0, 3, 1, 1, 3, 1, 3, 3, 0, 1, 3, 0, 1, 1, 3, 2, 2, 0, 2, 1, 0, 3, 1, 3, 2, 0, 3, 3, 0, 1, 2, 1, 3, 3, 2, 2, 3, 2, 3, 1, 2, 2, 0, 0, 0, 3, 3, 3, 0, 1, 3, 2, 1, 3, 2, 2, 2, 0, 3, 3, 3, 1, 3, 3, 3, 0, 1, 2, 1, 0, 2, 3, 2, 2, 0, 2, 1, 1, 3, 1, 1, 3, 3, 3, 1, 0, 1, 1, 3, 3, 0, 2, 3, 0, 3, 3, 0, 3, 0, 3, 1, 2, 2, 2, 3, 3, 1, 1, 2, 0, 2, 3, 0, 3, 1, 3, 1, 1, 0, 2, 0, 0, 0, 3, 1, 1, 0, 2, 1, 2, 1, 2, 3, 3, 2, 2, 1, 0, 0, 0, 2, 2, 0, 3, 0, 2, 1, 1, 1, 3, 1, 2, 3, 2, 0, 3, 2, 1, 3, 0, 2, 3, 3, 3, 2, 0, 2, 2, 3, 3, 3, 3, 0, 0, 2, 2, 0, 1, 2, 0, 3, 3, 2, 1, 2, 2, 1, 1, 1, 2, 0, 0, 1, 0, 3, 2, 2, 2, 3, 2, 3, 0, 1, 0, 2, 0, 0]\n",
      "[1, 0, 1, 2, 1, 1, 1, 0, 1, 3, 0, 2, 0, 3, 3, 0, 1, 0, 3, 2, 1, 1, 2, 3, 0, 0, 1, 1, 3, 0, 0, 1, 0, 1, 2, 0, 0, 0, 2, 3, 1, 1, 2, 1, 3, 2, 3, 0, 1, 1, 2, 3, 2, 0, 3, 3, 0, 2, 2, 1, 1, 2, 0, 1, 1, 0, 1, 1, 0, 1, 0, 1, 3, 1, 3, 0, 3, 3, 1, 1, 3, 0, 1, 0, 0, 3, 2, 3, 3, 2, 1, 1, 0, 0, 3, 1, 3, 1, 0, 2, 3, 1, 3, 2, 1, 1, 3, 2, 3, 0, 2, 1, 0, 0, 1, 1, 0, 0, 3, 3, 0, 1, 2, 1, 1, 3, 2, 1, 2, 0, 1, 1, 2, 2, 2, 1, 0, 0, 0, 2, 0, 1, 0, 3, 2, 2, 0, 2, 1, 0, 3, 0, 0, 2, 2, 0, 3, 3, 1, 2, 0, 0, 2, 3, 2, 0, 3, 3, 1, 1, 0, 1, 3, 0, 3, 3, 2, 0, 1, 1, 0, 0, 3, 3, 0, 0, 0, 3, 3, 0, 2, 0, 1, 2, 2, 2, 0, 1, 1, 1, 0, 0, 3, 0, 0, 2, 1, 2, 1, 1, 0, 3, 3, 0, 2, 0, 1, 1, 0, 2, 1, 2, 1, 2, 3, 3, 3, 2, 1, 2, 2, 0, 2, 2, 0, 3, 3, 2, 1, 1, 1, 3, 1, 2, 0, 3, 2, 3, 2, 1, 1, 3, 0, 3, 2, 2, 1, 0, 2, 2, 3, 3, 3, 3, 2, 1, 0, 2, 3, 1, 1, 3, 0, 0, 2, 1, 3, 2, 1, 1, 0, 0, 3, 0, 0, 2, 3, 0, 3, 2, 0, 2, 0, 0, 1, 3, 0, 2, 0]\n",
      "Accuracy cnn : 0.5451505016722408\n"
     ]
    }
   ],
   "source": [
    "from sklearn import metrics\n",
    "Predicted_label = []\n",
    "Label_OF_test_data=[]\n",
    "print(\"pred\")\n",
    "pred = model.predict(test_features)#, batch_size=batch_size, verbose=1)\n",
    "# print(pred)\n",
    "for val in pred:\n",
    "    if np.argmax(val) == 0:\n",
    "#         str_label ='Happy'\n",
    "        Predicted_label.append(0)\n",
    "    elif np.argmax(val) == 1:\n",
    "#         str_label ='sad'\n",
    "        Predicted_label.append(1)\n",
    "    elif np.argmax(val) == 2:\n",
    "#         str_label ='Angry'\n",
    "        Predicted_label.append(2)\n",
    "    elif np.argmax(val) == 3:\n",
    "#         str_label ='normal'\n",
    "        Predicted_label.append(3)\n",
    "for val in test_labels:\n",
    "    if np.argmax(val) == 0:\n",
    "#         str_label ='Happy'\n",
    "        Label_OF_test_data.append(0)\n",
    "    elif np.argmax(val) == 1:\n",
    "#         str_label ='sad'\n",
    "        Label_OF_test_data.append(1)\n",
    "    elif np.argmax(val) == 2:\n",
    "#         str_label ='Angry'\n",
    "        Label_OF_test_data.append(2)\n",
    "    elif np.argmax(val) == 3:\n",
    "#         str_label ='normal'\n",
    "        Label_OF_test_data.append(3)\n",
    "    \n",
    "    \n",
    "    \n",
    "    \n",
    "score=metrics.accuracy_score(Label_OF_test_data, Predicted_label)\n",
    "print(Label_OF_test_data)\n",
    "print(Predicted_label)\n",
    "print('Accuracy cnn : {}'.format(score))\n",
    "# convert predicions from categorical back to 0...9 digits\n",
    "# pred_digits = np.argmax(pred, axis=1)\n",
    "# print(pred_digits)\n",
    "\n",
    "# score=metrics.accuracy_score(test_labels, pred_digits)\n",
    "# print(Label_OF_test_data)\n",
    "# print(Predicted_label)\n",
    "# print('Accuracy cnn : {}'.format(score))"
   ]
  },
  {
   "cell_type": "code",
   "execution_count": 59,
   "metadata": {},
   "outputs": [
    {
     "name": "stderr",
     "output_type": "stream",
     "text": [
      "C:\\Users\\DELL\\Anaconda3\\lib\\site-packages\\ipykernel_launcher.py:22: FutureWarning: elementwise comparison failed; returning scalar instead, but in the future will perform elementwise comparison\n",
      "C:\\Users\\DELL\\Anaconda3\\lib\\site-packages\\ipykernel_launcher.py:24: FutureWarning: elementwise comparison failed; returning scalar instead, but in the future will perform elementwise comparison\n",
      "C:\\Users\\DELL\\Anaconda3\\lib\\site-packages\\ipykernel_launcher.py:26: FutureWarning: elementwise comparison failed; returning scalar instead, but in the future will perform elementwise comparison\n",
      "C:\\Users\\DELL\\Anaconda3\\lib\\site-packages\\ipykernel_launcher.py:28: FutureWarning: elementwise comparison failed; returning scalar instead, but in the future will perform elementwise comparison\n"
     ]
    },
    {
     "ename": "ValueError",
     "evalue": "Error when checking : expected input_2 to have 4 dimensions, but got array with shape (28, 28, 1)",
     "output_type": "error",
     "traceback": [
      "\u001b[1;31m---------------------------------------------------------------------------\u001b[0m",
      "\u001b[1;31mValueError\u001b[0m                                Traceback (most recent call last)",
      "\u001b[1;32m<ipython-input-59-aa60cdd1aba0>\u001b[0m in \u001b[0;36m<module>\u001b[1;34m()\u001b[0m\n\u001b[0;32m     43\u001b[0m \u001b[1;31m#     if b:\u001b[0m\u001b[1;33m\u001b[0m\u001b[1;33m\u001b[0m\u001b[0m\n\u001b[0;32m     44\u001b[0m \u001b[1;31m#         break\u001b[0m\u001b[1;33m\u001b[0m\u001b[1;33m\u001b[0m\u001b[0m\n\u001b[1;32m---> 45\u001b[1;33m     \u001b[0mmodel_out\u001b[0m \u001b[1;33m=\u001b[0m \u001b[0mmodel\u001b[0m\u001b[1;33m.\u001b[0m\u001b[0mpredict\u001b[0m\u001b[1;33m(\u001b[0m\u001b[1;33m[\u001b[0m\u001b[0mdata\u001b[0m\u001b[1;33m]\u001b[0m\u001b[1;33m)\u001b[0m\u001b[1;33m[\u001b[0m\u001b[1;36m0\u001b[0m\u001b[1;33m]\u001b[0m\u001b[1;33m\u001b[0m\u001b[0m\n\u001b[0m\u001b[0;32m     46\u001b[0m \u001b[1;31m#     print(np.argmax(model_out))\u001b[0m\u001b[1;33m\u001b[0m\u001b[1;33m\u001b[0m\u001b[0m\n\u001b[0;32m     47\u001b[0m     \u001b[1;32mif\u001b[0m \u001b[0mnp\u001b[0m\u001b[1;33m.\u001b[0m\u001b[0margmax\u001b[0m\u001b[1;33m(\u001b[0m\u001b[0mmodel_out\u001b[0m\u001b[1;33m)\u001b[0m \u001b[1;33m==\u001b[0m \u001b[1;36m0\u001b[0m\u001b[1;33m:\u001b[0m\u001b[1;33m\u001b[0m\u001b[0m\n",
      "\u001b[1;32m~\\Anaconda3\\lib\\site-packages\\keras\\engine\\training.py\u001b[0m in \u001b[0;36mpredict\u001b[1;34m(self, x, batch_size, verbose, steps)\u001b[0m\n\u001b[0;32m   1770\u001b[0m         x = _standardize_input_data(x, self._feed_input_names,\n\u001b[0;32m   1771\u001b[0m                                     \u001b[0mself\u001b[0m\u001b[1;33m.\u001b[0m\u001b[0m_feed_input_shapes\u001b[0m\u001b[1;33m,\u001b[0m\u001b[1;33m\u001b[0m\u001b[0m\n\u001b[1;32m-> 1772\u001b[1;33m                                     check_batch_axis=False)\n\u001b[0m\u001b[0;32m   1773\u001b[0m         \u001b[1;32mif\u001b[0m \u001b[0mself\u001b[0m\u001b[1;33m.\u001b[0m\u001b[0mstateful\u001b[0m\u001b[1;33m:\u001b[0m\u001b[1;33m\u001b[0m\u001b[0m\n\u001b[0;32m   1774\u001b[0m             \u001b[1;32mif\u001b[0m \u001b[0mx\u001b[0m\u001b[1;33m[\u001b[0m\u001b[1;36m0\u001b[0m\u001b[1;33m]\u001b[0m\u001b[1;33m.\u001b[0m\u001b[0mshape\u001b[0m\u001b[1;33m[\u001b[0m\u001b[1;36m0\u001b[0m\u001b[1;33m]\u001b[0m \u001b[1;33m>\u001b[0m \u001b[0mbatch_size\u001b[0m \u001b[1;32mand\u001b[0m \u001b[0mx\u001b[0m\u001b[1;33m[\u001b[0m\u001b[1;36m0\u001b[0m\u001b[1;33m]\u001b[0m\u001b[1;33m.\u001b[0m\u001b[0mshape\u001b[0m\u001b[1;33m[\u001b[0m\u001b[1;36m0\u001b[0m\u001b[1;33m]\u001b[0m \u001b[1;33m%\u001b[0m \u001b[0mbatch_size\u001b[0m \u001b[1;33m!=\u001b[0m \u001b[1;36m0\u001b[0m\u001b[1;33m:\u001b[0m\u001b[1;33m\u001b[0m\u001b[0m\n",
      "\u001b[1;32m~\\Anaconda3\\lib\\site-packages\\keras\\engine\\training.py\u001b[0m in \u001b[0;36m_standardize_input_data\u001b[1;34m(data, names, shapes, check_batch_axis, exception_prefix)\u001b[0m\n\u001b[0;32m    139\u001b[0m                                  \u001b[1;34m' to have '\u001b[0m \u001b[1;33m+\u001b[0m \u001b[0mstr\u001b[0m\u001b[1;33m(\u001b[0m\u001b[0mlen\u001b[0m\u001b[1;33m(\u001b[0m\u001b[0mshapes\u001b[0m\u001b[1;33m[\u001b[0m\u001b[0mi\u001b[0m\u001b[1;33m]\u001b[0m\u001b[1;33m)\u001b[0m\u001b[1;33m)\u001b[0m \u001b[1;33m+\u001b[0m\u001b[1;33m\u001b[0m\u001b[0m\n\u001b[0;32m    140\u001b[0m                                  \u001b[1;34m' dimensions, but got array with shape '\u001b[0m \u001b[1;33m+\u001b[0m\u001b[1;33m\u001b[0m\u001b[0m\n\u001b[1;32m--> 141\u001b[1;33m                                  str(array.shape))\n\u001b[0m\u001b[0;32m    142\u001b[0m             \u001b[1;32mfor\u001b[0m \u001b[0mj\u001b[0m\u001b[1;33m,\u001b[0m \u001b[1;33m(\u001b[0m\u001b[0mdim\u001b[0m\u001b[1;33m,\u001b[0m \u001b[0mref_dim\u001b[0m\u001b[1;33m)\u001b[0m \u001b[1;32min\u001b[0m \u001b[0menumerate\u001b[0m\u001b[1;33m(\u001b[0m\u001b[0mzip\u001b[0m\u001b[1;33m(\u001b[0m\u001b[0marray\u001b[0m\u001b[1;33m.\u001b[0m\u001b[0mshape\u001b[0m\u001b[1;33m,\u001b[0m \u001b[0mshapes\u001b[0m\u001b[1;33m[\u001b[0m\u001b[0mi\u001b[0m\u001b[1;33m]\u001b[0m\u001b[1;33m)\u001b[0m\u001b[1;33m)\u001b[0m\u001b[1;33m:\u001b[0m\u001b[1;33m\u001b[0m\u001b[0m\n\u001b[0;32m    143\u001b[0m                 \u001b[1;32mif\u001b[0m \u001b[1;32mnot\u001b[0m \u001b[0mj\u001b[0m \u001b[1;32mand\u001b[0m \u001b[1;32mnot\u001b[0m \u001b[0mcheck_batch_axis\u001b[0m\u001b[1;33m:\u001b[0m\u001b[1;33m\u001b[0m\u001b[0m\n",
      "\u001b[1;31mValueError\u001b[0m: Error when checking : expected input_2 to have 4 dimensions, but got array with shape (28, 28, 1)"
     ]
    }
   ],
   "source": [
    "from sklearn import metrics\n",
    "import matplotlib.pyplot as plt\n",
    "# if you need to create the data:\n",
    "# test_data = process_test_data()\n",
    "# if you already have some saved:\n",
    "# test_data = np.load('test_data.npy')\n",
    " \n",
    "# fig = plt.figure()\n",
    "Label_OF_test_data = [] \n",
    "Predicted_label = []\n",
    "Predicted_label_RandomForest = []\n",
    "b = True\n",
    "\n",
    "\n",
    "for num, data in enumerate(testing_data):\n",
    "    # cat: [1, 0]\n",
    "    # dog: [0, 1]\n",
    "     \n",
    "    img_num = data[1]\n",
    "    img_data = data[0]\n",
    "#     print(img_num)\n",
    "    if 'happy' in img_num : \n",
    "        Label_OF_test_data.append(0)\n",
    "    elif 'sad' in  img_num: \n",
    "        Label_OF_test_data.append(1)\n",
    "    elif 'angry' in  img_num: \n",
    "        Label_OF_test_data.append(2)\n",
    "    elif 'normal' in  img_num: \n",
    "        Label_OF_test_data.append(3)\n",
    "        \n",
    "    \n",
    "#     y = fig.add_subplot(4, 5, num + 1)\n",
    "    orig = img_data\n",
    "    data = img_data.reshape(IMG_SIZE, IMG_SIZE, 1)\n",
    " \n",
    "    # model_out = model.predict([data])[0]\n",
    "#     print(data.shape)\n",
    "#     print(data.ndim)\n",
    "    \n",
    "#     dataRC=data.reshape(1,IMG_SIZE*IMG_SIZE)\n",
    "#     print(dataRC.shape)\n",
    "#     print(dataRC.ndim)\n",
    "#     if b:\n",
    "#         break\n",
    "    model_out = model.predict([data])[0]\n",
    "#     print(np.argmax(model_out))\n",
    "    if np.argmax(model_out) == 0:\n",
    "#         str_label ='Happy'\n",
    "        Predicted_label.append(0)\n",
    "    elif np.argmax(model_out) == 1:\n",
    "#         str_label ='sad'\n",
    "        Predicted_label.append(1)\n",
    "    elif np.argmax(model_out) == 2:\n",
    "#         str_label ='Angry'\n",
    "        Predicted_label.append(2)\n",
    "    elif np.argmax(model_out) == 3:\n",
    "#         str_label ='normal'\n",
    "        Predicted_label.append(3)\n",
    "    \n",
    "        \n",
    "\n",
    "score=metrics.accuracy_score(Label_OF_test_data, Predicted_label)\n",
    "print(Label_OF_test_data)\n",
    "print(Predicted_label)\n",
    "print('Accuracy cnn : {}'.format(score))"
   ]
  },
  {
   "cell_type": "code",
   "execution_count": null,
   "metadata": {},
   "outputs": [],
   "source": []
  }
 ],
 "metadata": {
  "kernelspec": {
   "display_name": "Python 3",
   "language": "python",
   "name": "python3"
  },
  "language_info": {
   "codemirror_mode": {
    "name": "ipython",
    "version": 3
   },
   "file_extension": ".py",
   "mimetype": "text/x-python",
   "name": "python",
   "nbconvert_exporter": "python",
   "pygments_lexer": "ipython3",
   "version": "3.6.4"
  }
 },
 "nbformat": 4,
 "nbformat_minor": 2
}
